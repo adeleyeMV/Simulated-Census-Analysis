{
 "cells": [
  {
   "cell_type": "code",
   "execution_count": 346,
   "metadata": {},
   "outputs": [],
   "source": [
    "import pandas as pd\n",
    "\n",
    "import numpy as np\n",
    "\n",
    "import seaborn as sns\n",
    "\n",
    "import matplotlib.pyplot as plt"
   ]
  },
  {
   "cell_type": "code",
   "execution_count": 347,
   "metadata": {},
   "outputs": [],
   "source": [
    "df = pd.read_csv('census_01.csv')"
   ]
  },
  {
   "cell_type": "code",
   "execution_count": 348,
   "metadata": {},
   "outputs": [
    {
     "data": {
      "text/html": [
       "<div>\n",
       "<style scoped>\n",
       "    .dataframe tbody tr th:only-of-type {\n",
       "        vertical-align: middle;\n",
       "    }\n",
       "\n",
       "    .dataframe tbody tr th {\n",
       "        vertical-align: top;\n",
       "    }\n",
       "\n",
       "    .dataframe thead th {\n",
       "        text-align: right;\n",
       "    }\n",
       "</style>\n",
       "<table border=\"1\" class=\"dataframe\">\n",
       "  <thead>\n",
       "    <tr style=\"text-align: right;\">\n",
       "      <th></th>\n",
       "      <th>House Number</th>\n",
       "      <th>Street</th>\n",
       "      <th>First Name</th>\n",
       "      <th>Surname</th>\n",
       "      <th>Age</th>\n",
       "      <th>Relationship to Head of House</th>\n",
       "      <th>Marital Status</th>\n",
       "      <th>Gender</th>\n",
       "      <th>Occupation</th>\n",
       "      <th>Infirmity</th>\n",
       "      <th>Religion</th>\n",
       "    </tr>\n",
       "  </thead>\n",
       "  <tbody>\n",
       "    <tr>\n",
       "      <th>0</th>\n",
       "      <td>1</td>\n",
       "      <td>Renaissance Lane</td>\n",
       "      <td>Grace</td>\n",
       "      <td>Johnston</td>\n",
       "      <td>29</td>\n",
       "      <td>Head</td>\n",
       "      <td>Single</td>\n",
       "      <td>Female</td>\n",
       "      <td>Visual merchandiser</td>\n",
       "      <td>None</td>\n",
       "      <td>Methodist</td>\n",
       "    </tr>\n",
       "    <tr>\n",
       "      <th>1</th>\n",
       "      <td>1</td>\n",
       "      <td>Renaissance Lane</td>\n",
       "      <td>Brett</td>\n",
       "      <td>Sheppard</td>\n",
       "      <td>31</td>\n",
       "      <td>Partner</td>\n",
       "      <td>Single</td>\n",
       "      <td>Male</td>\n",
       "      <td>Biomedical engineer</td>\n",
       "      <td>None</td>\n",
       "      <td>Methodist</td>\n",
       "    </tr>\n",
       "    <tr>\n",
       "      <th>2</th>\n",
       "      <td>1</td>\n",
       "      <td>Renaissance Lane</td>\n",
       "      <td>Mark</td>\n",
       "      <td>Johnston</td>\n",
       "      <td>6</td>\n",
       "      <td>Son</td>\n",
       "      <td>NaN</td>\n",
       "      <td>Male</td>\n",
       "      <td>Student</td>\n",
       "      <td>None</td>\n",
       "      <td>NaN</td>\n",
       "    </tr>\n",
       "    <tr>\n",
       "      <th>3</th>\n",
       "      <td>1</td>\n",
       "      <td>Renaissance Lane</td>\n",
       "      <td>Teresa</td>\n",
       "      <td>Johnston</td>\n",
       "      <td>3</td>\n",
       "      <td>Daughter</td>\n",
       "      <td>NaN</td>\n",
       "      <td>Female</td>\n",
       "      <td>Child</td>\n",
       "      <td>None</td>\n",
       "      <td>NaN</td>\n",
       "    </tr>\n",
       "    <tr>\n",
       "      <th>4</th>\n",
       "      <td>2</td>\n",
       "      <td>Renaissance Lane</td>\n",
       "      <td>Helen</td>\n",
       "      <td>Smith</td>\n",
       "      <td>81</td>\n",
       "      <td>Head</td>\n",
       "      <td>Married</td>\n",
       "      <td>Female</td>\n",
       "      <td>Retired Primary school teacher</td>\n",
       "      <td>None</td>\n",
       "      <td>Christian</td>\n",
       "    </tr>\n",
       "  </tbody>\n",
       "</table>\n",
       "</div>"
      ],
      "text/plain": [
       "  House Number            Street First Name   Surname Age  \\\n",
       "0            1  Renaissance Lane      Grace  Johnston  29   \n",
       "1            1  Renaissance Lane      Brett  Sheppard  31   \n",
       "2            1  Renaissance Lane       Mark  Johnston   6   \n",
       "3            1  Renaissance Lane     Teresa  Johnston   3   \n",
       "4            2  Renaissance Lane      Helen     Smith  81   \n",
       "\n",
       "  Relationship to Head of House Marital Status  Gender  \\\n",
       "0                          Head         Single  Female   \n",
       "1                       Partner         Single    Male   \n",
       "2                           Son            NaN    Male   \n",
       "3                      Daughter            NaN  Female   \n",
       "4                          Head        Married  Female   \n",
       "\n",
       "                       Occupation Infirmity   Religion  \n",
       "0             Visual merchandiser      None  Methodist  \n",
       "1             Biomedical engineer      None  Methodist  \n",
       "2                         Student      None        NaN  \n",
       "3                           Child      None        NaN  \n",
       "4  Retired Primary school teacher      None  Christian  "
      ]
     },
     "execution_count": 348,
     "metadata": {},
     "output_type": "execute_result"
    }
   ],
   "source": [
    "df.head()"
   ]
  },
  {
   "cell_type": "code",
   "execution_count": 349,
   "metadata": {},
   "outputs": [
    {
     "name": "stdout",
     "output_type": "stream",
     "text": [
      "<class 'pandas.core.frame.DataFrame'>\n",
      "RangeIndex: 11118 entries, 0 to 11117\n",
      "Data columns (total 11 columns):\n",
      " #   Column                         Non-Null Count  Dtype \n",
      "---  ------                         --------------  ----- \n",
      " 0   House Number                   11115 non-null  object\n",
      " 1   Street                         11117 non-null  object\n",
      " 2   First Name                     11116 non-null  object\n",
      " 3   Surname                        11117 non-null  object\n",
      " 4   Age                            11118 non-null  object\n",
      " 5   Relationship to Head of House  11118 non-null  object\n",
      " 6   Marital Status                 8354 non-null   object\n",
      " 7   Gender                         11116 non-null  object\n",
      " 8   Occupation                     11118 non-null  object\n",
      " 9   Infirmity                      11118 non-null  object\n",
      " 10  Religion                       8294 non-null   object\n",
      "dtypes: object(11)\n",
      "memory usage: 955.6+ KB\n"
     ]
    }
   ],
   "source": [
    "df.info()"
   ]
  },
  {
   "cell_type": "markdown",
   "metadata": {},
   "source": [
    "# Clean Dataset"
   ]
  },
  {
   "cell_type": "markdown",
   "metadata": {},
   "source": [
    "### House Number"
   ]
  },
  {
   "cell_type": "code",
   "execution_count": 350,
   "metadata": {},
   "outputs": [
    {
     "data": {
      "text/html": [
       "<div>\n",
       "<style scoped>\n",
       "    .dataframe tbody tr th:only-of-type {\n",
       "        vertical-align: middle;\n",
       "    }\n",
       "\n",
       "    .dataframe tbody tr th {\n",
       "        vertical-align: top;\n",
       "    }\n",
       "\n",
       "    .dataframe thead th {\n",
       "        text-align: right;\n",
       "    }\n",
       "</style>\n",
       "<table border=\"1\" class=\"dataframe\">\n",
       "  <thead>\n",
       "    <tr style=\"text-align: right;\">\n",
       "      <th></th>\n",
       "      <th>House Number</th>\n",
       "      <th>Street</th>\n",
       "      <th>First Name</th>\n",
       "      <th>Surname</th>\n",
       "      <th>Age</th>\n",
       "      <th>Relationship to Head of House</th>\n",
       "      <th>Marital Status</th>\n",
       "      <th>Gender</th>\n",
       "      <th>Occupation</th>\n",
       "      <th>Infirmity</th>\n",
       "      <th>Religion</th>\n",
       "    </tr>\n",
       "  </thead>\n",
       "  <tbody>\n",
       "    <tr>\n",
       "      <th>6</th>\n",
       "      <td>NaN</td>\n",
       "      <td>Renaissance Lane</td>\n",
       "      <td>Hazel</td>\n",
       "      <td>Richards</td>\n",
       "      <td>54</td>\n",
       "      <td>Head</td>\n",
       "      <td>Married</td>\n",
       "      <td>Female</td>\n",
       "      <td>Housing manager/officer</td>\n",
       "      <td>None</td>\n",
       "      <td>None</td>\n",
       "    </tr>\n",
       "    <tr>\n",
       "      <th>87</th>\n",
       "      <td>NaN</td>\n",
       "      <td>Owen Inlet</td>\n",
       "      <td>Kevin</td>\n",
       "      <td>Phillips</td>\n",
       "      <td>45</td>\n",
       "      <td>Head</td>\n",
       "      <td>Divorced</td>\n",
       "      <td>Male</td>\n",
       "      <td>Data scientist</td>\n",
       "      <td>None</td>\n",
       "      <td>Methodist</td>\n",
       "    </tr>\n",
       "    <tr>\n",
       "      <th>8690</th>\n",
       "      <td>NaN</td>\n",
       "      <td>Sharkwash Road</td>\n",
       "      <td>Jeremy</td>\n",
       "      <td>Osborne</td>\n",
       "      <td>21</td>\n",
       "      <td>Head</td>\n",
       "      <td>Single</td>\n",
       "      <td>Male</td>\n",
       "      <td>University Student</td>\n",
       "      <td>None</td>\n",
       "      <td>Muslim</td>\n",
       "    </tr>\n",
       "  </tbody>\n",
       "</table>\n",
       "</div>"
      ],
      "text/plain": [
       "     House Number            Street First Name   Surname Age  \\\n",
       "6             NaN  Renaissance Lane      Hazel  Richards  54   \n",
       "87            NaN        Owen Inlet      Kevin  Phillips  45   \n",
       "8690          NaN    Sharkwash Road     Jeremy   Osborne  21   \n",
       "\n",
       "     Relationship to Head of House Marital Status  Gender  \\\n",
       "6                             Head        Married  Female   \n",
       "87                            Head       Divorced    Male   \n",
       "8690                          Head         Single    Male   \n",
       "\n",
       "                   Occupation Infirmity   Religion  \n",
       "6     Housing manager/officer      None       None  \n",
       "87             Data scientist      None  Methodist  \n",
       "8690       University Student      None     Muslim  "
      ]
     },
     "execution_count": 350,
     "metadata": {},
     "output_type": "execute_result"
    }
   ],
   "source": [
    "df[df['House Number'].isna()]"
   ]
  },
  {
   "cell_type": "code",
   "execution_count": 351,
   "metadata": {},
   "outputs": [
    {
     "data": {
      "text/html": [
       "<div>\n",
       "<style scoped>\n",
       "    .dataframe tbody tr th:only-of-type {\n",
       "        vertical-align: middle;\n",
       "    }\n",
       "\n",
       "    .dataframe tbody tr th {\n",
       "        vertical-align: top;\n",
       "    }\n",
       "\n",
       "    .dataframe thead th {\n",
       "        text-align: right;\n",
       "    }\n",
       "</style>\n",
       "<table border=\"1\" class=\"dataframe\">\n",
       "  <thead>\n",
       "    <tr style=\"text-align: right;\">\n",
       "      <th></th>\n",
       "      <th>House Number</th>\n",
       "      <th>Street</th>\n",
       "      <th>First Name</th>\n",
       "      <th>Surname</th>\n",
       "      <th>Age</th>\n",
       "      <th>Relationship to Head of House</th>\n",
       "      <th>Marital Status</th>\n",
       "      <th>Gender</th>\n",
       "      <th>Occupation</th>\n",
       "      <th>Infirmity</th>\n",
       "      <th>Religion</th>\n",
       "    </tr>\n",
       "  </thead>\n",
       "  <tbody>\n",
       "    <tr>\n",
       "      <th>5</th>\n",
       "      <td>2</td>\n",
       "      <td>Renaissance Lane</td>\n",
       "      <td>William</td>\n",
       "      <td>Smith</td>\n",
       "      <td>83</td>\n",
       "      <td>Husband</td>\n",
       "      <td>Married</td>\n",
       "      <td>M</td>\n",
       "      <td>Retired Tree surgeon</td>\n",
       "      <td>None</td>\n",
       "      <td>None</td>\n",
       "    </tr>\n",
       "    <tr>\n",
       "      <th>6</th>\n",
       "      <td>NaN</td>\n",
       "      <td>Renaissance Lane</td>\n",
       "      <td>Hazel</td>\n",
       "      <td>Richards</td>\n",
       "      <td>54</td>\n",
       "      <td>Head</td>\n",
       "      <td>Married</td>\n",
       "      <td>Female</td>\n",
       "      <td>Housing manager/officer</td>\n",
       "      <td>None</td>\n",
       "      <td>None</td>\n",
       "    </tr>\n",
       "    <tr>\n",
       "      <th>7</th>\n",
       "      <td>3</td>\n",
       "      <td>Renaissance Lane</td>\n",
       "      <td>Kenneth</td>\n",
       "      <td>Richards</td>\n",
       "      <td>56</td>\n",
       "      <td>Husband</td>\n",
       "      <td>Married</td>\n",
       "      <td>Male</td>\n",
       "      <td>Illustrator</td>\n",
       "      <td>None</td>\n",
       "      <td>None</td>\n",
       "    </tr>\n",
       "  </tbody>\n",
       "</table>\n",
       "</div>"
      ],
      "text/plain": [
       "  House Number            Street First Name   Surname Age  \\\n",
       "5            2  Renaissance Lane    William     Smith  83   \n",
       "6          NaN  Renaissance Lane      Hazel  Richards  54   \n",
       "7            3  Renaissance Lane    Kenneth  Richards  56   \n",
       "\n",
       "  Relationship to Head of House Marital Status  Gender  \\\n",
       "5                       Husband        Married       M   \n",
       "6                          Head        Married  Female   \n",
       "7                       Husband        Married    Male   \n",
       "\n",
       "                Occupation Infirmity Religion  \n",
       "5     Retired Tree surgeon      None     None  \n",
       "6  Housing manager/officer      None     None  \n",
       "7              Illustrator      None     None  "
      ]
     },
     "execution_count": 351,
     "metadata": {},
     "output_type": "execute_result"
    }
   ],
   "source": [
    "df.iloc[5:8, :]"
   ]
  },
  {
   "cell_type": "code",
   "execution_count": 352,
   "metadata": {},
   "outputs": [],
   "source": [
    "df.iloc[6, 0] = 3"
   ]
  },
  {
   "cell_type": "code",
   "execution_count": 353,
   "metadata": {},
   "outputs": [
    {
     "data": {
      "text/html": [
       "<div>\n",
       "<style scoped>\n",
       "    .dataframe tbody tr th:only-of-type {\n",
       "        vertical-align: middle;\n",
       "    }\n",
       "\n",
       "    .dataframe tbody tr th {\n",
       "        vertical-align: top;\n",
       "    }\n",
       "\n",
       "    .dataframe thead th {\n",
       "        text-align: right;\n",
       "    }\n",
       "</style>\n",
       "<table border=\"1\" class=\"dataframe\">\n",
       "  <thead>\n",
       "    <tr style=\"text-align: right;\">\n",
       "      <th></th>\n",
       "      <th>House Number</th>\n",
       "      <th>Street</th>\n",
       "      <th>First Name</th>\n",
       "      <th>Surname</th>\n",
       "      <th>Age</th>\n",
       "      <th>Relationship to Head of House</th>\n",
       "      <th>Marital Status</th>\n",
       "      <th>Gender</th>\n",
       "      <th>Occupation</th>\n",
       "      <th>Infirmity</th>\n",
       "      <th>Religion</th>\n",
       "    </tr>\n",
       "  </thead>\n",
       "  <tbody>\n",
       "    <tr>\n",
       "      <th>85</th>\n",
       "      <td>13</td>\n",
       "      <td>Owen Inlet</td>\n",
       "      <td>Kathleen</td>\n",
       "      <td>Williams</td>\n",
       "      <td>46</td>\n",
       "      <td>Head</td>\n",
       "      <td>Married</td>\n",
       "      <td>Female</td>\n",
       "      <td>Programme researcher, broadcasting/film/video</td>\n",
       "      <td>None</td>\n",
       "      <td>Methodist</td>\n",
       "    </tr>\n",
       "    <tr>\n",
       "      <th>86</th>\n",
       "      <td>13</td>\n",
       "      <td>Owen Inlet</td>\n",
       "      <td>Andrew</td>\n",
       "      <td>Williams</td>\n",
       "      <td>48</td>\n",
       "      <td>Husband</td>\n",
       "      <td>Married</td>\n",
       "      <td>Male</td>\n",
       "      <td>Catering manager</td>\n",
       "      <td>None</td>\n",
       "      <td>None</td>\n",
       "    </tr>\n",
       "    <tr>\n",
       "      <th>87</th>\n",
       "      <td>NaN</td>\n",
       "      <td>Owen Inlet</td>\n",
       "      <td>Kevin</td>\n",
       "      <td>Phillips</td>\n",
       "      <td>45</td>\n",
       "      <td>Head</td>\n",
       "      <td>Divorced</td>\n",
       "      <td>Male</td>\n",
       "      <td>Data scientist</td>\n",
       "      <td>None</td>\n",
       "      <td>Methodist</td>\n",
       "    </tr>\n",
       "    <tr>\n",
       "      <th>88</th>\n",
       "      <td>15</td>\n",
       "      <td>Owen Inlet</td>\n",
       "      <td>Charlotte</td>\n",
       "      <td>Harvey</td>\n",
       "      <td>45</td>\n",
       "      <td>Head</td>\n",
       "      <td>Divorced</td>\n",
       "      <td>Female</td>\n",
       "      <td>Geophysical data processor</td>\n",
       "      <td>None</td>\n",
       "      <td>None</td>\n",
       "    </tr>\n",
       "    <tr>\n",
       "      <th>89</th>\n",
       "      <td>15</td>\n",
       "      <td>Owen Inlet</td>\n",
       "      <td>Leah</td>\n",
       "      <td>Harvey</td>\n",
       "      <td>15</td>\n",
       "      <td>Daughter</td>\n",
       "      <td>NaN</td>\n",
       "      <td>Female</td>\n",
       "      <td>Student</td>\n",
       "      <td>None</td>\n",
       "      <td>NaN</td>\n",
       "    </tr>\n",
       "  </tbody>\n",
       "</table>\n",
       "</div>"
      ],
      "text/plain": [
       "   House Number      Street First Name   Surname Age  \\\n",
       "85           13  Owen Inlet   Kathleen  Williams  46   \n",
       "86           13  Owen Inlet     Andrew  Williams  48   \n",
       "87          NaN  Owen Inlet      Kevin  Phillips  45   \n",
       "88           15  Owen Inlet  Charlotte    Harvey  45   \n",
       "89           15  Owen Inlet       Leah    Harvey  15   \n",
       "\n",
       "   Relationship to Head of House Marital Status  Gender  \\\n",
       "85                          Head        Married  Female   \n",
       "86                       Husband        Married    Male   \n",
       "87                          Head       Divorced    Male   \n",
       "88                          Head       Divorced  Female   \n",
       "89                      Daughter            NaN  Female   \n",
       "\n",
       "                                       Occupation Infirmity   Religion  \n",
       "85  Programme researcher, broadcasting/film/video      None  Methodist  \n",
       "86                               Catering manager      None       None  \n",
       "87                                 Data scientist      None  Methodist  \n",
       "88                     Geophysical data processor      None       None  \n",
       "89                                        Student      None        NaN  "
      ]
     },
     "execution_count": 353,
     "metadata": {},
     "output_type": "execute_result"
    }
   ],
   "source": [
    "df.iloc[85:90, :]"
   ]
  },
  {
   "cell_type": "code",
   "execution_count": 354,
   "metadata": {},
   "outputs": [],
   "source": [
    "df.iloc[87, 0]=14"
   ]
  },
  {
   "cell_type": "code",
   "execution_count": 355,
   "metadata": {},
   "outputs": [
    {
     "data": {
      "text/html": [
       "<div>\n",
       "<style scoped>\n",
       "    .dataframe tbody tr th:only-of-type {\n",
       "        vertical-align: middle;\n",
       "    }\n",
       "\n",
       "    .dataframe tbody tr th {\n",
       "        vertical-align: top;\n",
       "    }\n",
       "\n",
       "    .dataframe thead th {\n",
       "        text-align: right;\n",
       "    }\n",
       "</style>\n",
       "<table border=\"1\" class=\"dataframe\">\n",
       "  <thead>\n",
       "    <tr style=\"text-align: right;\">\n",
       "      <th></th>\n",
       "      <th>House Number</th>\n",
       "      <th>Street</th>\n",
       "      <th>First Name</th>\n",
       "      <th>Surname</th>\n",
       "      <th>Age</th>\n",
       "      <th>Relationship to Head of House</th>\n",
       "      <th>Marital Status</th>\n",
       "      <th>Gender</th>\n",
       "      <th>Occupation</th>\n",
       "      <th>Infirmity</th>\n",
       "      <th>Religion</th>\n",
       "    </tr>\n",
       "  </thead>\n",
       "  <tbody>\n",
       "    <tr>\n",
       "      <th>8688</th>\n",
       "      <td>80</td>\n",
       "      <td>Sharkwash Road</td>\n",
       "      <td>John</td>\n",
       "      <td>Doyle</td>\n",
       "      <td>31</td>\n",
       "      <td>Husband</td>\n",
       "      <td>Married</td>\n",
       "      <td>Male</td>\n",
       "      <td>Meteorologist</td>\n",
       "      <td>None</td>\n",
       "      <td>Christian</td>\n",
       "    </tr>\n",
       "    <tr>\n",
       "      <th>8689</th>\n",
       "      <td>80</td>\n",
       "      <td>Sharkwash Road</td>\n",
       "      <td>Kayleigh</td>\n",
       "      <td>Doyle</td>\n",
       "      <td>10</td>\n",
       "      <td>Daughter</td>\n",
       "      <td>NaN</td>\n",
       "      <td>Female</td>\n",
       "      <td>Student</td>\n",
       "      <td>None</td>\n",
       "      <td>NaN</td>\n",
       "    </tr>\n",
       "    <tr>\n",
       "      <th>8690</th>\n",
       "      <td>NaN</td>\n",
       "      <td>Sharkwash Road</td>\n",
       "      <td>Jeremy</td>\n",
       "      <td>Osborne</td>\n",
       "      <td>21</td>\n",
       "      <td>Head</td>\n",
       "      <td>Single</td>\n",
       "      <td>Male</td>\n",
       "      <td>University Student</td>\n",
       "      <td>None</td>\n",
       "      <td>Muslim</td>\n",
       "    </tr>\n",
       "    <tr>\n",
       "      <th>8691</th>\n",
       "      <td>82</td>\n",
       "      <td>Sharkwash Road</td>\n",
       "      <td>Janet</td>\n",
       "      <td>Green</td>\n",
       "      <td>25</td>\n",
       "      <td>Head</td>\n",
       "      <td>Single</td>\n",
       "      <td>Female</td>\n",
       "      <td>Garment/textile technologist</td>\n",
       "      <td>None</td>\n",
       "      <td>None</td>\n",
       "    </tr>\n",
       "    <tr>\n",
       "      <th>8692</th>\n",
       "      <td>82</td>\n",
       "      <td>Sharkwash Road</td>\n",
       "      <td>Marion</td>\n",
       "      <td>Pratt</td>\n",
       "      <td>64</td>\n",
       "      <td>Lodger</td>\n",
       "      <td>Single</td>\n",
       "      <td>Female</td>\n",
       "      <td>Location manager</td>\n",
       "      <td>None</td>\n",
       "      <td>Christian</td>\n",
       "    </tr>\n",
       "  </tbody>\n",
       "</table>\n",
       "</div>"
      ],
      "text/plain": [
       "     House Number          Street First Name  Surname Age  \\\n",
       "8688           80  Sharkwash Road       John    Doyle  31   \n",
       "8689           80  Sharkwash Road   Kayleigh    Doyle  10   \n",
       "8690          NaN  Sharkwash Road     Jeremy  Osborne  21   \n",
       "8691           82  Sharkwash Road      Janet    Green  25   \n",
       "8692           82  Sharkwash Road     Marion    Pratt  64   \n",
       "\n",
       "     Relationship to Head of House Marital Status  Gender  \\\n",
       "8688                       Husband        Married    Male   \n",
       "8689                      Daughter            NaN  Female   \n",
       "8690                          Head         Single    Male   \n",
       "8691                          Head         Single  Female   \n",
       "8692                        Lodger         Single  Female   \n",
       "\n",
       "                        Occupation Infirmity   Religion  \n",
       "8688                 Meteorologist      None  Christian  \n",
       "8689                       Student      None        NaN  \n",
       "8690            University Student      None     Muslim  \n",
       "8691  Garment/textile technologist      None       None  \n",
       "8692              Location manager      None  Christian  "
      ]
     },
     "execution_count": 355,
     "metadata": {},
     "output_type": "execute_result"
    }
   ],
   "source": [
    "df.iloc[8688:8693, :]"
   ]
  },
  {
   "cell_type": "code",
   "execution_count": 356,
   "metadata": {},
   "outputs": [],
   "source": [
    "df.iloc[8690,0] = 81"
   ]
  },
  {
   "cell_type": "code",
   "execution_count": 357,
   "metadata": {},
   "outputs": [
    {
     "data": {
      "text/html": [
       "<div>\n",
       "<style scoped>\n",
       "    .dataframe tbody tr th:only-of-type {\n",
       "        vertical-align: middle;\n",
       "    }\n",
       "\n",
       "    .dataframe tbody tr th {\n",
       "        vertical-align: top;\n",
       "    }\n",
       "\n",
       "    .dataframe thead th {\n",
       "        text-align: right;\n",
       "    }\n",
       "</style>\n",
       "<table border=\"1\" class=\"dataframe\">\n",
       "  <thead>\n",
       "    <tr style=\"text-align: right;\">\n",
       "      <th></th>\n",
       "      <th>House Number</th>\n",
       "      <th>Street</th>\n",
       "      <th>First Name</th>\n",
       "      <th>Surname</th>\n",
       "      <th>Age</th>\n",
       "      <th>Relationship to Head of House</th>\n",
       "      <th>Marital Status</th>\n",
       "      <th>Gender</th>\n",
       "      <th>Occupation</th>\n",
       "      <th>Infirmity</th>\n",
       "      <th>Religion</th>\n",
       "    </tr>\n",
       "  </thead>\n",
       "  <tbody>\n",
       "  </tbody>\n",
       "</table>\n",
       "</div>"
      ],
      "text/plain": [
       "Empty DataFrame\n",
       "Columns: [House Number, Street, First Name, Surname, Age, Relationship to Head of House, Marital Status, Gender, Occupation, Infirmity, Religion]\n",
       "Index: []"
      ]
     },
     "execution_count": 357,
     "metadata": {},
     "output_type": "execute_result"
    }
   ],
   "source": [
    "df[df.iloc[:,0].isna()]"
   ]
  },
  {
   "cell_type": "code",
   "execution_count": 358,
   "metadata": {},
   "outputs": [
    {
     "data": {
      "text/plain": [
       "array(['1', '2', 3, '3', '4', '5', '6', '7', '8', '9', '10', '11', '12',\n",
       "       '13', '14', '15', '16', '17', '18', '19', '20', '21', '22', '23',\n",
       "       '24', '25', '26', '27', '28', '29', '30', '31', '32', '33', 14,\n",
       "       '34', '35', '36', '37', '38', '39', '40', '41', '42', '43', '44',\n",
       "       '45', '46', '47', '48', '49', '50', '51', '52', '53', '54', '55',\n",
       "       '56', '57', '58', '59', '60', '61', '62', '63', '64', '65', '66',\n",
       "       '67', '68', '69', '70', '71', '72', '73', '74', '75', '76', '77',\n",
       "       '78', '79', '80', '81', '82', '83', '84', '85', '86', '87', '88',\n",
       "       '89', '90', '91', '92', '93', '94', '95', '96', '97', '98', '99',\n",
       "       '100', '101', '102', '103', '104', '105', '106', '107', '108',\n",
       "       '109', '110', '111', '112', '113', '114', '115', '116', '117',\n",
       "       '118', '119', '120', '121', '122', '123', '124', '125', '126',\n",
       "       '127', '128', '129', '130', '131', '132', '133', '134', '135',\n",
       "       '136', '137', '138', '139', '140', '141', '142', '143', '144',\n",
       "       '145', '146', '147', '148', '149', '150', '151', '152', '153',\n",
       "       '154', '155', '156', '157', '158', '159', '160', '161', '162',\n",
       "       '163', '164', '165', '166', '167', '168', '169', '170', '171',\n",
       "       '172', '173', '174', '175', '176', '177', '178', '179', '180',\n",
       "       '181', '182', '183', '184', '185', '186', '187', '188', '189',\n",
       "       '190', '191', '192', '193', '194', '195', '196', '197', '198',\n",
       "       '199', '200', '201', '202', '203', '204', '205', '206', '207',\n",
       "       '208', '209', '210', '211', '212', '213', '214', ' ', 'two', 81,\n",
       "       '215', '216', '217', '218', '219', '220', '221', '222', '223',\n",
       "       '224', '225', '226', '227', '228', '229'], dtype=object)"
      ]
     },
     "execution_count": 358,
     "metadata": {},
     "output_type": "execute_result"
    }
   ],
   "source": [
    "# House Number should be numeric\n",
    "\n",
    "df['House Number'].unique()"
   ]
  },
  {
   "cell_type": "code",
   "execution_count": 359,
   "metadata": {},
   "outputs": [
    {
     "data": {
      "text/html": [
       "<div>\n",
       "<style scoped>\n",
       "    .dataframe tbody tr th:only-of-type {\n",
       "        vertical-align: middle;\n",
       "    }\n",
       "\n",
       "    .dataframe tbody tr th {\n",
       "        vertical-align: top;\n",
       "    }\n",
       "\n",
       "    .dataframe thead th {\n",
       "        text-align: right;\n",
       "    }\n",
       "</style>\n",
       "<table border=\"1\" class=\"dataframe\">\n",
       "  <thead>\n",
       "    <tr style=\"text-align: right;\">\n",
       "      <th></th>\n",
       "      <th>House Number</th>\n",
       "      <th>Street</th>\n",
       "      <th>First Name</th>\n",
       "      <th>Surname</th>\n",
       "      <th>Age</th>\n",
       "      <th>Relationship to Head of House</th>\n",
       "      <th>Marital Status</th>\n",
       "      <th>Gender</th>\n",
       "      <th>Occupation</th>\n",
       "      <th>Infirmity</th>\n",
       "      <th>Religion</th>\n",
       "    </tr>\n",
       "  </thead>\n",
       "  <tbody>\n",
       "    <tr>\n",
       "      <th>7571</th>\n",
       "      <td>two</td>\n",
       "      <td>Panther Street</td>\n",
       "      <td>Dale</td>\n",
       "      <td>Rose</td>\n",
       "      <td>48</td>\n",
       "      <td>Husband</td>\n",
       "      <td>Married</td>\n",
       "      <td>Male</td>\n",
       "      <td>Unemployed</td>\n",
       "      <td>None</td>\n",
       "      <td>None</td>\n",
       "    </tr>\n",
       "  </tbody>\n",
       "</table>\n",
       "</div>"
      ],
      "text/plain": [
       "     House Number          Street First Name Surname Age  \\\n",
       "7571          two  Panther Street       Dale    Rose  48   \n",
       "\n",
       "     Relationship to Head of House Marital Status Gender  Occupation  \\\n",
       "7571                       Husband        Married   Male  Unemployed   \n",
       "\n",
       "     Infirmity Religion  \n",
       "7571      None     None  "
      ]
     },
     "execution_count": 359,
     "metadata": {},
     "output_type": "execute_result"
    }
   ],
   "source": [
    "# There are some non-numeric values which need to be modified\n",
    "\n",
    "df.query('`House Number`==\"two\"')\n",
    "# = df['House Number'].replace({'two':2, ' '})"
   ]
  },
  {
   "cell_type": "code",
   "execution_count": 360,
   "metadata": {},
   "outputs": [
    {
     "data": {
      "text/html": [
       "<div>\n",
       "<style scoped>\n",
       "    .dataframe tbody tr th:only-of-type {\n",
       "        vertical-align: middle;\n",
       "    }\n",
       "\n",
       "    .dataframe tbody tr th {\n",
       "        vertical-align: top;\n",
       "    }\n",
       "\n",
       "    .dataframe thead th {\n",
       "        text-align: right;\n",
       "    }\n",
       "</style>\n",
       "<table border=\"1\" class=\"dataframe\">\n",
       "  <thead>\n",
       "    <tr style=\"text-align: right;\">\n",
       "      <th></th>\n",
       "      <th>House Number</th>\n",
       "      <th>Street</th>\n",
       "      <th>First Name</th>\n",
       "      <th>Surname</th>\n",
       "      <th>Age</th>\n",
       "      <th>Relationship to Head of House</th>\n",
       "      <th>Marital Status</th>\n",
       "      <th>Gender</th>\n",
       "      <th>Occupation</th>\n",
       "      <th>Infirmity</th>\n",
       "      <th>Religion</th>\n",
       "    </tr>\n",
       "  </thead>\n",
       "  <tbody>\n",
       "    <tr>\n",
       "      <th>7570</th>\n",
       "      <td>2</td>\n",
       "      <td>Panther Street</td>\n",
       "      <td>Ellie</td>\n",
       "      <td>Rose</td>\n",
       "      <td>47</td>\n",
       "      <td>Head</td>\n",
       "      <td>Married</td>\n",
       "      <td>Female</td>\n",
       "      <td>Prison officer</td>\n",
       "      <td>None</td>\n",
       "      <td>Christian</td>\n",
       "    </tr>\n",
       "    <tr>\n",
       "      <th>7571</th>\n",
       "      <td>two</td>\n",
       "      <td>Panther Street</td>\n",
       "      <td>Dale</td>\n",
       "      <td>Rose</td>\n",
       "      <td>48</td>\n",
       "      <td>Husband</td>\n",
       "      <td>Married</td>\n",
       "      <td>Male</td>\n",
       "      <td>Unemployed</td>\n",
       "      <td>None</td>\n",
       "      <td>None</td>\n",
       "    </tr>\n",
       "    <tr>\n",
       "      <th>7572</th>\n",
       "      <td>2</td>\n",
       "      <td>Panther Street</td>\n",
       "      <td>Declan</td>\n",
       "      <td>Rose</td>\n",
       "      <td>27</td>\n",
       "      <td>Son</td>\n",
       "      <td>Single</td>\n",
       "      <td>Male</td>\n",
       "      <td>Early years teacher</td>\n",
       "      <td>None</td>\n",
       "      <td>Christian</td>\n",
       "    </tr>\n",
       "    <tr>\n",
       "      <th>7573</th>\n",
       "      <td>2</td>\n",
       "      <td>Panther Street</td>\n",
       "      <td>Alice</td>\n",
       "      <td>Rose</td>\n",
       "      <td>26</td>\n",
       "      <td>Daughter</td>\n",
       "      <td>Single</td>\n",
       "      <td>Female</td>\n",
       "      <td>Agricultural consultant</td>\n",
       "      <td>None</td>\n",
       "      <td>Christian</td>\n",
       "    </tr>\n",
       "  </tbody>\n",
       "</table>\n",
       "</div>"
      ],
      "text/plain": [
       "     House Number          Street First Name Surname Age  \\\n",
       "7570            2  Panther Street      Ellie    Rose  47   \n",
       "7571          two  Panther Street       Dale    Rose  48   \n",
       "7572            2  Panther Street     Declan    Rose  27   \n",
       "7573            2  Panther Street      Alice    Rose  26   \n",
       "\n",
       "     Relationship to Head of House Marital Status  Gender  \\\n",
       "7570                          Head        Married  Female   \n",
       "7571                       Husband        Married    Male   \n",
       "7572                           Son         Single    Male   \n",
       "7573                      Daughter         Single  Female   \n",
       "\n",
       "                   Occupation Infirmity   Religion  \n",
       "7570           Prison officer      None  Christian  \n",
       "7571               Unemployed      None       None  \n",
       "7572      Early years teacher      None  Christian  \n",
       "7573  Agricultural consultant      None  Christian  "
      ]
     },
     "execution_count": 360,
     "metadata": {},
     "output_type": "execute_result"
    }
   ],
   "source": [
    "df.loc[7570:7573]"
   ]
  },
  {
   "cell_type": "code",
   "execution_count": 361,
   "metadata": {},
   "outputs": [],
   "source": [
    "df.loc[7571,'House Number']=2"
   ]
  },
  {
   "cell_type": "code",
   "execution_count": 362,
   "metadata": {},
   "outputs": [
    {
     "data": {
      "text/html": [
       "<div>\n",
       "<style scoped>\n",
       "    .dataframe tbody tr th:only-of-type {\n",
       "        vertical-align: middle;\n",
       "    }\n",
       "\n",
       "    .dataframe tbody tr th {\n",
       "        vertical-align: top;\n",
       "    }\n",
       "\n",
       "    .dataframe thead th {\n",
       "        text-align: right;\n",
       "    }\n",
       "</style>\n",
       "<table border=\"1\" class=\"dataframe\">\n",
       "  <thead>\n",
       "    <tr style=\"text-align: right;\">\n",
       "      <th></th>\n",
       "      <th>House Number</th>\n",
       "      <th>Street</th>\n",
       "      <th>First Name</th>\n",
       "      <th>Surname</th>\n",
       "      <th>Age</th>\n",
       "      <th>Relationship to Head of House</th>\n",
       "      <th>Marital Status</th>\n",
       "      <th>Gender</th>\n",
       "      <th>Occupation</th>\n",
       "      <th>Infirmity</th>\n",
       "      <th>Religion</th>\n",
       "    </tr>\n",
       "  </thead>\n",
       "  <tbody>\n",
       "    <tr>\n",
       "      <th>5849</th>\n",
       "      <td></td>\n",
       "      <td>Guitar Greens</td>\n",
       "      <td>Megan</td>\n",
       "      <td>Daniels</td>\n",
       "      <td>45</td>\n",
       "      <td>Head</td>\n",
       "      <td>Married</td>\n",
       "      <td>Female</td>\n",
       "      <td>Teacher, secondary school</td>\n",
       "      <td>None</td>\n",
       "      <td>Christian</td>\n",
       "    </tr>\n",
       "  </tbody>\n",
       "</table>\n",
       "</div>"
      ],
      "text/plain": [
       "     House Number         Street First Name  Surname Age  \\\n",
       "5849               Guitar Greens      Megan  Daniels  45   \n",
       "\n",
       "     Relationship to Head of House Marital Status  Gender  \\\n",
       "5849                          Head        Married  Female   \n",
       "\n",
       "                     Occupation Infirmity   Religion  \n",
       "5849  Teacher, secondary school      None  Christian  "
      ]
     },
     "execution_count": 362,
     "metadata": {},
     "output_type": "execute_result"
    }
   ],
   "source": [
    "df.query('`House Number`==\" \"')"
   ]
  },
  {
   "cell_type": "code",
   "execution_count": 363,
   "metadata": {},
   "outputs": [
    {
     "data": {
      "text/html": [
       "<div>\n",
       "<style scoped>\n",
       "    .dataframe tbody tr th:only-of-type {\n",
       "        vertical-align: middle;\n",
       "    }\n",
       "\n",
       "    .dataframe tbody tr th {\n",
       "        vertical-align: top;\n",
       "    }\n",
       "\n",
       "    .dataframe thead th {\n",
       "        text-align: right;\n",
       "    }\n",
       "</style>\n",
       "<table border=\"1\" class=\"dataframe\">\n",
       "  <thead>\n",
       "    <tr style=\"text-align: right;\">\n",
       "      <th></th>\n",
       "      <th>House Number</th>\n",
       "      <th>Street</th>\n",
       "      <th>First Name</th>\n",
       "      <th>Surname</th>\n",
       "      <th>Age</th>\n",
       "      <th>Relationship to Head of House</th>\n",
       "      <th>Marital Status</th>\n",
       "      <th>Gender</th>\n",
       "      <th>Occupation</th>\n",
       "      <th>Infirmity</th>\n",
       "      <th>Religion</th>\n",
       "    </tr>\n",
       "  </thead>\n",
       "  <tbody>\n",
       "    <tr>\n",
       "      <th>5848</th>\n",
       "      <td>20</td>\n",
       "      <td>Guitar Greens</td>\n",
       "      <td>Colin</td>\n",
       "      <td>Thomas</td>\n",
       "      <td>13</td>\n",
       "      <td>Son</td>\n",
       "      <td>NaN</td>\n",
       "      <td>Male</td>\n",
       "      <td>Student</td>\n",
       "      <td>None</td>\n",
       "      <td>NaN</td>\n",
       "    </tr>\n",
       "    <tr>\n",
       "      <th>5849</th>\n",
       "      <td></td>\n",
       "      <td>Guitar Greens</td>\n",
       "      <td>Megan</td>\n",
       "      <td>Daniels</td>\n",
       "      <td>45</td>\n",
       "      <td>Head</td>\n",
       "      <td>Married</td>\n",
       "      <td>Female</td>\n",
       "      <td>Teacher, secondary school</td>\n",
       "      <td>None</td>\n",
       "      <td>Christian</td>\n",
       "    </tr>\n",
       "    <tr>\n",
       "      <th>5850</th>\n",
       "      <td>21</td>\n",
       "      <td>Guitar Greens</td>\n",
       "      <td>Alexander</td>\n",
       "      <td>Daniels</td>\n",
       "      <td>48</td>\n",
       "      <td>Husband</td>\n",
       "      <td>Married</td>\n",
       "      <td>Male</td>\n",
       "      <td>Chief Executive Officer</td>\n",
       "      <td>None</td>\n",
       "      <td>Christian</td>\n",
       "    </tr>\n",
       "  </tbody>\n",
       "</table>\n",
       "</div>"
      ],
      "text/plain": [
       "     House Number         Street First Name  Surname Age  \\\n",
       "5848           20  Guitar Greens      Colin   Thomas  13   \n",
       "5849               Guitar Greens      Megan  Daniels  45   \n",
       "5850           21  Guitar Greens  Alexander  Daniels  48   \n",
       "\n",
       "     Relationship to Head of House Marital Status  Gender  \\\n",
       "5848                           Son            NaN    Male   \n",
       "5849                          Head        Married  Female   \n",
       "5850                       Husband        Married    Male   \n",
       "\n",
       "                     Occupation Infirmity   Religion  \n",
       "5848                    Student      None        NaN  \n",
       "5849  Teacher, secondary school      None  Christian  \n",
       "5850    Chief Executive Officer      None  Christian  "
      ]
     },
     "execution_count": 363,
     "metadata": {},
     "output_type": "execute_result"
    }
   ],
   "source": [
    "df.loc[5848:5850] "
   ]
  },
  {
   "cell_type": "code",
   "execution_count": 364,
   "metadata": {},
   "outputs": [],
   "source": [
    "'''From above Since The person with empty house number shares the same stree and surname as the person right after, \n",
    "we will fill the same house number for the two\n",
    "'''\n",
    "df.loc[5849, 'House Number'] = 21"
   ]
  },
  {
   "cell_type": "code",
   "execution_count": 365,
   "metadata": {},
   "outputs": [
    {
     "data": {
      "text/html": [
       "<div>\n",
       "<style scoped>\n",
       "    .dataframe tbody tr th:only-of-type {\n",
       "        vertical-align: middle;\n",
       "    }\n",
       "\n",
       "    .dataframe tbody tr th {\n",
       "        vertical-align: top;\n",
       "    }\n",
       "\n",
       "    .dataframe thead th {\n",
       "        text-align: right;\n",
       "    }\n",
       "</style>\n",
       "<table border=\"1\" class=\"dataframe\">\n",
       "  <thead>\n",
       "    <tr style=\"text-align: right;\">\n",
       "      <th></th>\n",
       "      <th>House Number</th>\n",
       "      <th>Street</th>\n",
       "      <th>First Name</th>\n",
       "      <th>Surname</th>\n",
       "      <th>Age</th>\n",
       "      <th>Relationship to Head of House</th>\n",
       "      <th>Marital Status</th>\n",
       "      <th>Gender</th>\n",
       "      <th>Occupation</th>\n",
       "      <th>Infirmity</th>\n",
       "      <th>Religion</th>\n",
       "    </tr>\n",
       "  </thead>\n",
       "  <tbody>\n",
       "    <tr>\n",
       "      <th>0</th>\n",
       "      <td>1</td>\n",
       "      <td>Renaissance Lane</td>\n",
       "      <td>Grace</td>\n",
       "      <td>Johnston</td>\n",
       "      <td>29</td>\n",
       "      <td>Head</td>\n",
       "      <td>Single</td>\n",
       "      <td>Female</td>\n",
       "      <td>Visual merchandiser</td>\n",
       "      <td>None</td>\n",
       "      <td>Methodist</td>\n",
       "    </tr>\n",
       "    <tr>\n",
       "      <th>1</th>\n",
       "      <td>1</td>\n",
       "      <td>Renaissance Lane</td>\n",
       "      <td>Brett</td>\n",
       "      <td>Sheppard</td>\n",
       "      <td>31</td>\n",
       "      <td>Partner</td>\n",
       "      <td>Single</td>\n",
       "      <td>Male</td>\n",
       "      <td>Biomedical engineer</td>\n",
       "      <td>None</td>\n",
       "      <td>Methodist</td>\n",
       "    </tr>\n",
       "    <tr>\n",
       "      <th>2</th>\n",
       "      <td>1</td>\n",
       "      <td>Renaissance Lane</td>\n",
       "      <td>Mark</td>\n",
       "      <td>Johnston</td>\n",
       "      <td>6</td>\n",
       "      <td>Son</td>\n",
       "      <td>NaN</td>\n",
       "      <td>Male</td>\n",
       "      <td>Student</td>\n",
       "      <td>None</td>\n",
       "      <td>NaN</td>\n",
       "    </tr>\n",
       "    <tr>\n",
       "      <th>3</th>\n",
       "      <td>1</td>\n",
       "      <td>Renaissance Lane</td>\n",
       "      <td>Teresa</td>\n",
       "      <td>Johnston</td>\n",
       "      <td>3</td>\n",
       "      <td>Daughter</td>\n",
       "      <td>NaN</td>\n",
       "      <td>Female</td>\n",
       "      <td>Child</td>\n",
       "      <td>None</td>\n",
       "      <td>NaN</td>\n",
       "    </tr>\n",
       "    <tr>\n",
       "      <th>4</th>\n",
       "      <td>2</td>\n",
       "      <td>Renaissance Lane</td>\n",
       "      <td>Helen</td>\n",
       "      <td>Smith</td>\n",
       "      <td>81</td>\n",
       "      <td>Head</td>\n",
       "      <td>Married</td>\n",
       "      <td>Female</td>\n",
       "      <td>Retired Primary school teacher</td>\n",
       "      <td>None</td>\n",
       "      <td>Christian</td>\n",
       "    </tr>\n",
       "    <tr>\n",
       "      <th>...</th>\n",
       "      <td>...</td>\n",
       "      <td>...</td>\n",
       "      <td>...</td>\n",
       "      <td>...</td>\n",
       "      <td>...</td>\n",
       "      <td>...</td>\n",
       "      <td>...</td>\n",
       "      <td>...</td>\n",
       "      <td>...</td>\n",
       "      <td>...</td>\n",
       "      <td>...</td>\n",
       "    </tr>\n",
       "    <tr>\n",
       "      <th>11113</th>\n",
       "      <td>1</td>\n",
       "      <td>Racoon Hall</td>\n",
       "      <td>Tracey</td>\n",
       "      <td>Gregory</td>\n",
       "      <td>12</td>\n",
       "      <td>Granddaughter</td>\n",
       "      <td>NaN</td>\n",
       "      <td>Female</td>\n",
       "      <td>Student</td>\n",
       "      <td>None</td>\n",
       "      <td>NaN</td>\n",
       "    </tr>\n",
       "    <tr>\n",
       "      <th>11114</th>\n",
       "      <td>1</td>\n",
       "      <td>Racoon Hall</td>\n",
       "      <td>Nigel</td>\n",
       "      <td>Macdonald</td>\n",
       "      <td>8</td>\n",
       "      <td>Grandson</td>\n",
       "      <td>NaN</td>\n",
       "      <td>Male</td>\n",
       "      <td>Student</td>\n",
       "      <td>None</td>\n",
       "      <td>NaN</td>\n",
       "    </tr>\n",
       "    <tr>\n",
       "      <th>11115</th>\n",
       "      <td>1</td>\n",
       "      <td>Racoon Hall</td>\n",
       "      <td>Natalie</td>\n",
       "      <td>Francis</td>\n",
       "      <td>1</td>\n",
       "      <td>Granddaughter</td>\n",
       "      <td>NaN</td>\n",
       "      <td>Female</td>\n",
       "      <td>Child</td>\n",
       "      <td>None</td>\n",
       "      <td>NaN</td>\n",
       "    </tr>\n",
       "    <tr>\n",
       "      <th>11116</th>\n",
       "      <td>1</td>\n",
       "      <td>Racoon Hall</td>\n",
       "      <td>Roger</td>\n",
       "      <td>Leach</td>\n",
       "      <td>54</td>\n",
       "      <td>Lodger</td>\n",
       "      <td>Single</td>\n",
       "      <td>Male</td>\n",
       "      <td>Commercial horticulturist</td>\n",
       "      <td>None</td>\n",
       "      <td>Methodist</td>\n",
       "    </tr>\n",
       "    <tr>\n",
       "      <th>11117</th>\n",
       "      <td>1</td>\n",
       "      <td>Racoon Hall</td>\n",
       "      <td>Sally</td>\n",
       "      <td>Fletcher</td>\n",
       "      <td>56</td>\n",
       "      <td>Lodger</td>\n",
       "      <td>Single</td>\n",
       "      <td>Female</td>\n",
       "      <td>Public relations account executive</td>\n",
       "      <td>None</td>\n",
       "      <td>Christian</td>\n",
       "    </tr>\n",
       "  </tbody>\n",
       "</table>\n",
       "<p>11118 rows × 11 columns</p>\n",
       "</div>"
      ],
      "text/plain": [
       "       House Number            Street First Name    Surname Age  \\\n",
       "0                 1  Renaissance Lane      Grace   Johnston  29   \n",
       "1                 1  Renaissance Lane      Brett   Sheppard  31   \n",
       "2                 1  Renaissance Lane       Mark   Johnston   6   \n",
       "3                 1  Renaissance Lane     Teresa   Johnston   3   \n",
       "4                 2  Renaissance Lane      Helen      Smith  81   \n",
       "...             ...               ...        ...        ...  ..   \n",
       "11113             1       Racoon Hall     Tracey    Gregory  12   \n",
       "11114             1       Racoon Hall      Nigel  Macdonald   8   \n",
       "11115             1       Racoon Hall    Natalie    Francis   1   \n",
       "11116             1       Racoon Hall      Roger      Leach  54   \n",
       "11117             1       Racoon Hall      Sally   Fletcher  56   \n",
       "\n",
       "      Relationship to Head of House Marital Status  Gender  \\\n",
       "0                              Head         Single  Female   \n",
       "1                           Partner         Single    Male   \n",
       "2                               Son            NaN    Male   \n",
       "3                          Daughter            NaN  Female   \n",
       "4                              Head        Married  Female   \n",
       "...                             ...            ...     ...   \n",
       "11113                 Granddaughter            NaN  Female   \n",
       "11114                      Grandson            NaN    Male   \n",
       "11115                 Granddaughter            NaN  Female   \n",
       "11116                        Lodger         Single    Male   \n",
       "11117                        Lodger         Single  Female   \n",
       "\n",
       "                               Occupation Infirmity   Religion  \n",
       "0                     Visual merchandiser      None  Methodist  \n",
       "1                     Biomedical engineer      None  Methodist  \n",
       "2                                 Student      None        NaN  \n",
       "3                                   Child      None        NaN  \n",
       "4          Retired Primary school teacher      None  Christian  \n",
       "...                                   ...       ...        ...  \n",
       "11113                             Student      None        NaN  \n",
       "11114                             Student      None        NaN  \n",
       "11115                               Child      None        NaN  \n",
       "11116           Commercial horticulturist      None  Methodist  \n",
       "11117  Public relations account executive      None  Christian  \n",
       "\n",
       "[11118 rows x 11 columns]"
      ]
     },
     "execution_count": 365,
     "metadata": {},
     "output_type": "execute_result"
    }
   ],
   "source": [
    "# Let's try to convert to House Numebr to integer\n",
    "df['House Number'] = df['House Number'].astype(int)\n",
    "df"
   ]
  },
  {
   "cell_type": "markdown",
   "metadata": {},
   "source": [
    "### Street"
   ]
  },
  {
   "cell_type": "code",
   "execution_count": 366,
   "metadata": {},
   "outputs": [
    {
     "data": {
      "text/html": [
       "<div>\n",
       "<style scoped>\n",
       "    .dataframe tbody tr th:only-of-type {\n",
       "        vertical-align: middle;\n",
       "    }\n",
       "\n",
       "    .dataframe tbody tr th {\n",
       "        vertical-align: top;\n",
       "    }\n",
       "\n",
       "    .dataframe thead th {\n",
       "        text-align: right;\n",
       "    }\n",
       "</style>\n",
       "<table border=\"1\" class=\"dataframe\">\n",
       "  <thead>\n",
       "    <tr style=\"text-align: right;\">\n",
       "      <th></th>\n",
       "      <th>House Number</th>\n",
       "      <th>Street</th>\n",
       "      <th>First Name</th>\n",
       "      <th>Surname</th>\n",
       "      <th>Age</th>\n",
       "      <th>Relationship to Head of House</th>\n",
       "      <th>Marital Status</th>\n",
       "      <th>Gender</th>\n",
       "      <th>Occupation</th>\n",
       "      <th>Infirmity</th>\n",
       "      <th>Religion</th>\n",
       "    </tr>\n",
       "  </thead>\n",
       "  <tbody>\n",
       "    <tr>\n",
       "      <th>9923</th>\n",
       "      <td>108</td>\n",
       "      <td>NaN</td>\n",
       "      <td>Derek</td>\n",
       "      <td>Martin</td>\n",
       "      <td>35</td>\n",
       "      <td>Husband</td>\n",
       "      <td>Married</td>\n",
       "      <td>Male</td>\n",
       "      <td>Volunteer coordinator</td>\n",
       "      <td>None</td>\n",
       "      <td>Catholic</td>\n",
       "    </tr>\n",
       "  </tbody>\n",
       "</table>\n",
       "</div>"
      ],
      "text/plain": [
       "      House Number Street First Name Surname Age  \\\n",
       "9923           108    NaN      Derek  Martin  35   \n",
       "\n",
       "     Relationship to Head of House Marital Status Gender  \\\n",
       "9923                       Husband        Married   Male   \n",
       "\n",
       "                 Occupation Infirmity  Religion  \n",
       "9923  Volunteer coordinator      None  Catholic  "
      ]
     },
     "execution_count": 366,
     "metadata": {},
     "output_type": "execute_result"
    }
   ],
   "source": [
    "df[df.iloc[:, 1].isna()]"
   ]
  },
  {
   "cell_type": "code",
   "execution_count": 367,
   "metadata": {},
   "outputs": [],
   "source": [
    "df.iloc[9921:9925, 1].fillna(method='ffill', inplace=True)"
   ]
  },
  {
   "cell_type": "markdown",
   "metadata": {},
   "source": [
    "### Age"
   ]
  },
  {
   "cell_type": "code",
   "execution_count": 368,
   "metadata": {},
   "outputs": [
    {
     "data": {
      "text/plain": [
       "array(['29', '31', '6', '3', '81', '83', '54', '56', '71', '20', '19',\n",
       "       '46', '44', '18', '14', '62', '70', '51', '49', '17', '47', '25',\n",
       "       '23', '32', '33', '35', '11', '77', '43', '58', '57', '40', '37',\n",
       "       '64', '75', '61', '59', '45', '42', '13', '27', '21', '104', '41',\n",
       "       '38', '36', '34', '26', '55', '48', '15', '60', '4', '1', '72',\n",
       "       '65', '52', '2', '12', '8', '53', '9', '66', '68', '63', '22',\n",
       "       '73', '78', '39', '5', '24', '10', '86', '82', '80', '28', '30',\n",
       "       '16', '7', '76', '0', '85', '50', '74', '69', '84', '92', '67',\n",
       "       '89', '88', '94', '99', '79', '87', '105', '82.67482093',\n",
       "       '85.67482093', '93', '20.3', 'nineteen', '101', '98', '150', '-1',\n",
       "       '65.94133739', '66.94133739', '0.5', '103', '96', '95', ' ', '91',\n",
       "       '50.0', '97', '90', '65.54297878', '61.54297878', '66.6', '108',\n",
       "       'fifteen'], dtype=object)"
      ]
     },
     "execution_count": 368,
     "metadata": {},
     "output_type": "execute_result"
    }
   ],
   "source": [
    "df.Age.unique()"
   ]
  },
  {
   "cell_type": "code",
   "execution_count": 369,
   "metadata": {},
   "outputs": [
    {
     "data": {
      "text/plain": [
       "array(['29', '31', '6', '3', '81', '83', '54', '56', '71', '20', '19',\n",
       "       '46', '44', '18', '14', '62', '70', '51', '49', '17', '47', '25',\n",
       "       '23', '32', '33', '35', '11', '77', '43', '58', '57', '40', '37',\n",
       "       '64', '75', '61', '59', '45', '42', '13', '27', '21', '104', '41',\n",
       "       '38', '36', '34', '26', '55', '48', '15', '60', '4', '1', '72',\n",
       "       '65', '52', '2', '12', '8', '53', '9', '66', '68', '63', '22',\n",
       "       '73', '78', '39', '5', '24', '10', '86', '82', '80', '28', '30',\n",
       "       '16', '7', '76', '0', '85', '50', '74', '69', '84', '92', '67',\n",
       "       '89', '88', '94', '99', '79', '87', '105', '82.67482093',\n",
       "       '85.67482093', '93', '20.3', 19, '101', '98', '150', '-1',\n",
       "       '65.94133739', '66.94133739', '0.5', '103', '96', '95', nan, '91',\n",
       "       '50.0', '97', '90', '65.54297878', '61.54297878', '66.6', '108',\n",
       "       15], dtype=object)"
      ]
     },
     "execution_count": 369,
     "metadata": {},
     "output_type": "execute_result"
    }
   ],
   "source": [
    "age_string_to_int = {'nineteen':19, 'fifteen':15, ' ':np.nan}\n",
    "df.Age.replace(age_string_to_int, inplace=True)\n",
    "df.Age.unique()"
   ]
  },
  {
   "cell_type": "code",
   "execution_count": 5,
   "metadata": {},
   "outputs": [
    {
     "ename": "NameError",
     "evalue": "name 'df' is not defined",
     "output_type": "error",
     "traceback": [
      "\u001b[0;31m---------------------------------------------------------------------------\u001b[0m",
      "\u001b[0;31mNameError\u001b[0m                                 Traceback (most recent call last)",
      "\u001b[0;32m/var/folders/fh/93xksvt54v90r60y6t2q84pw0000gn/T/ipykernel_50625/268338165.py\u001b[0m in \u001b[0;36m<module>\u001b[0;34m\u001b[0m\n\u001b[0;32m----> 1\u001b[0;31m \u001b[0mdf\u001b[0m\u001b[0;34m[\u001b[0m\u001b[0;34m\"Age\"\u001b[0m\u001b[0;34m]\u001b[0m\u001b[0;34m.\u001b[0m\u001b[0munique\u001b[0m\u001b[0;34m(\u001b[0m\u001b[0;34m)\u001b[0m\u001b[0;34m.\u001b[0m\u001b[0mdescribe\u001b[0m\u001b[0;34m(\u001b[0m\u001b[0;34m)\u001b[0m\u001b[0;34m\u001b[0m\u001b[0;34m\u001b[0m\u001b[0m\n\u001b[0m",
      "\u001b[0;31mNameError\u001b[0m: name 'df' is not defined"
     ]
    }
   ],
   "source": [
    "df[\"Age\"].unique().describe()"
   ]
  },
  {
   "cell_type": "code",
   "execution_count": 370,
   "metadata": {},
   "outputs": [
    {
     "data": {
      "text/html": [
       "<div>\n",
       "<style scoped>\n",
       "    .dataframe tbody tr th:only-of-type {\n",
       "        vertical-align: middle;\n",
       "    }\n",
       "\n",
       "    .dataframe tbody tr th {\n",
       "        vertical-align: top;\n",
       "    }\n",
       "\n",
       "    .dataframe thead th {\n",
       "        text-align: right;\n",
       "    }\n",
       "</style>\n",
       "<table border=\"1\" class=\"dataframe\">\n",
       "  <thead>\n",
       "    <tr style=\"text-align: right;\">\n",
       "      <th></th>\n",
       "      <th>House Number</th>\n",
       "      <th>Street</th>\n",
       "      <th>First Name</th>\n",
       "      <th>Surname</th>\n",
       "      <th>Age</th>\n",
       "      <th>Relationship to Head of House</th>\n",
       "      <th>Marital Status</th>\n",
       "      <th>Gender</th>\n",
       "      <th>Occupation</th>\n",
       "      <th>Infirmity</th>\n",
       "      <th>Religion</th>\n",
       "    </tr>\n",
       "  </thead>\n",
       "  <tbody>\n",
       "    <tr>\n",
       "      <th>5044</th>\n",
       "      <td>34</td>\n",
       "      <td>Oyster Valley</td>\n",
       "      <td>Clive</td>\n",
       "      <td>Bennett-Andrews</td>\n",
       "      <td>NaN</td>\n",
       "      <td>Son</td>\n",
       "      <td>NaN</td>\n",
       "      <td>Male</td>\n",
       "      <td>Student</td>\n",
       "      <td>None</td>\n",
       "      <td>NaN</td>\n",
       "    </tr>\n",
       "  </tbody>\n",
       "</table>\n",
       "</div>"
      ],
      "text/plain": [
       "      House Number         Street First Name          Surname  Age  \\\n",
       "5044            34  Oyster Valley      Clive  Bennett-Andrews  NaN   \n",
       "\n",
       "     Relationship to Head of House Marital Status Gender Occupation Infirmity  \\\n",
       "5044                           Son            NaN   Male    Student      None   \n",
       "\n",
       "     Religion  \n",
       "5044      NaN  "
      ]
     },
     "execution_count": 370,
     "metadata": {},
     "output_type": "execute_result"
    }
   ],
   "source": [
    "df[df.Age.isna()]"
   ]
  },
  {
   "cell_type": "code",
   "execution_count": 371,
   "metadata": {},
   "outputs": [
    {
     "data": {
      "text/html": [
       "<div>\n",
       "<style scoped>\n",
       "    .dataframe tbody tr th:only-of-type {\n",
       "        vertical-align: middle;\n",
       "    }\n",
       "\n",
       "    .dataframe tbody tr th {\n",
       "        vertical-align: top;\n",
       "    }\n",
       "\n",
       "    .dataframe thead th {\n",
       "        text-align: right;\n",
       "    }\n",
       "</style>\n",
       "<table border=\"1\" class=\"dataframe\">\n",
       "  <thead>\n",
       "    <tr style=\"text-align: right;\">\n",
       "      <th></th>\n",
       "      <th>House Number</th>\n",
       "      <th>Street</th>\n",
       "      <th>First Name</th>\n",
       "      <th>Surname</th>\n",
       "      <th>Age</th>\n",
       "      <th>Relationship to Head of House</th>\n",
       "      <th>Marital Status</th>\n",
       "      <th>Gender</th>\n",
       "      <th>Occupation</th>\n",
       "      <th>Infirmity</th>\n",
       "      <th>Religion</th>\n",
       "    </tr>\n",
       "  </thead>\n",
       "  <tbody>\n",
       "    <tr>\n",
       "      <th>5041</th>\n",
       "      <td>33</td>\n",
       "      <td>Oyster Valley</td>\n",
       "      <td>Joanne</td>\n",
       "      <td>Bird</td>\n",
       "      <td>6</td>\n",
       "      <td>Daughter</td>\n",
       "      <td>NaN</td>\n",
       "      <td>Female</td>\n",
       "      <td>Student</td>\n",
       "      <td>None</td>\n",
       "      <td>NaN</td>\n",
       "    </tr>\n",
       "    <tr>\n",
       "      <th>5042</th>\n",
       "      <td>34</td>\n",
       "      <td>Oyster Valley</td>\n",
       "      <td>Gillian</td>\n",
       "      <td>Bennett-Andrews</td>\n",
       "      <td>49</td>\n",
       "      <td>Head</td>\n",
       "      <td>Single</td>\n",
       "      <td>Female</td>\n",
       "      <td>Psychotherapist, dance movement</td>\n",
       "      <td>None</td>\n",
       "      <td>Catholic</td>\n",
       "    </tr>\n",
       "    <tr>\n",
       "      <th>5043</th>\n",
       "      <td>34</td>\n",
       "      <td>Oyster Valley</td>\n",
       "      <td>Martyn</td>\n",
       "      <td>Hyde</td>\n",
       "      <td>55</td>\n",
       "      <td>Partner</td>\n",
       "      <td>Single</td>\n",
       "      <td>Male</td>\n",
       "      <td>Medical sales representative</td>\n",
       "      <td>None</td>\n",
       "      <td>Catholic</td>\n",
       "    </tr>\n",
       "    <tr>\n",
       "      <th>5044</th>\n",
       "      <td>34</td>\n",
       "      <td>Oyster Valley</td>\n",
       "      <td>Clive</td>\n",
       "      <td>Bennett-Andrews</td>\n",
       "      <td>NaN</td>\n",
       "      <td>Son</td>\n",
       "      <td>NaN</td>\n",
       "      <td>Male</td>\n",
       "      <td>Student</td>\n",
       "      <td>None</td>\n",
       "      <td>NaN</td>\n",
       "    </tr>\n",
       "    <tr>\n",
       "      <th>5045</th>\n",
       "      <td>35</td>\n",
       "      <td>Oyster Valley</td>\n",
       "      <td>Nicola</td>\n",
       "      <td>Payne-Simpson</td>\n",
       "      <td>68</td>\n",
       "      <td>Head</td>\n",
       "      <td>Widowed</td>\n",
       "      <td>Female</td>\n",
       "      <td>Unemployed</td>\n",
       "      <td>None</td>\n",
       "      <td>None</td>\n",
       "    </tr>\n",
       "  </tbody>\n",
       "</table>\n",
       "</div>"
      ],
      "text/plain": [
       "      House Number         Street First Name          Surname  Age  \\\n",
       "5041            33  Oyster Valley     Joanne             Bird    6   \n",
       "5042            34  Oyster Valley    Gillian  Bennett-Andrews   49   \n",
       "5043            34  Oyster Valley     Martyn             Hyde   55   \n",
       "5044            34  Oyster Valley      Clive  Bennett-Andrews  NaN   \n",
       "5045            35  Oyster Valley     Nicola    Payne-Simpson   68   \n",
       "\n",
       "     Relationship to Head of House Marital Status  Gender  \\\n",
       "5041                      Daughter            NaN  Female   \n",
       "5042                          Head         Single  Female   \n",
       "5043                       Partner         Single    Male   \n",
       "5044                           Son            NaN    Male   \n",
       "5045                          Head        Widowed  Female   \n",
       "\n",
       "                           Occupation Infirmity  Religion  \n",
       "5041                          Student      None       NaN  \n",
       "5042  Psychotherapist, dance movement      None  Catholic  \n",
       "5043     Medical sales representative      None  Catholic  \n",
       "5044                          Student      None       NaN  \n",
       "5045                       Unemployed      None      None  "
      ]
     },
     "execution_count": 371,
     "metadata": {},
     "output_type": "execute_result"
    }
   ],
   "source": [
    "df.iloc[5041:5046, :]"
   ]
  },
  {
   "cell_type": "code",
   "execution_count": 372,
   "metadata": {},
   "outputs": [],
   "source": [
    "df.Age.fillna(0, inplace=True)"
   ]
  },
  {
   "cell_type": "code",
   "execution_count": 373,
   "metadata": {},
   "outputs": [
    {
     "data": {
      "text/plain": [
       "array([ 29,  31,   6,   3,  81,  83,  54,  56,  71,  20,  19,  46,  44,\n",
       "        18,  14,  62,  70,  51,  49,  17,  47,  25,  23,  32,  33,  35,\n",
       "        11,  77,  43,  58,  57,  40,  37,  64,  75,  61,  59,  45,  42,\n",
       "        13,  27,  21, 104,  41,  38,  36,  34,  26,  55,  48,  15,  60,\n",
       "         4,   1,  72,  65,  52,   2,  12,   8,  53,   9,  66,  68,  63,\n",
       "        22,  73,  78,  39,   5,  24,  10,  86,  82,  80,  28,  30,  16,\n",
       "         7,  76,   0,  85,  50,  74,  69,  84,  92,  67,  89,  88,  94,\n",
       "        99,  79,  87, 105,  93, 101,  98, 150, 103,  96,  95,  91,  97,\n",
       "        90, 108])"
      ]
     },
     "execution_count": 373,
     "metadata": {},
     "output_type": "execute_result"
    }
   ],
   "source": [
    "df.Age = pd.to_numeric(df.Age).apply(abs).astype(int)\n",
    "df.Age.unique()"
   ]
  },
  {
   "cell_type": "code",
   "execution_count": null,
   "metadata": {},
   "outputs": [],
   "source": []
  },
  {
   "cell_type": "markdown",
   "metadata": {},
   "source": [
    "### Marital Status"
   ]
  },
  {
   "cell_type": "code",
   "execution_count": 374,
   "metadata": {},
   "outputs": [
    {
     "data": {
      "text/plain": [
       "array(['Single', nan, 'Married', 'Widowed', 'Divorced', 'S', 'M', ' ',\n",
       "       'W'], dtype=object)"
      ]
     },
     "execution_count": 374,
     "metadata": {},
     "output_type": "execute_result"
    }
   ],
   "source": [
    "df.loc[:, 'Marital Status'].unique()"
   ]
  },
  {
   "cell_type": "code",
   "execution_count": 375,
   "metadata": {},
   "outputs": [
    {
     "data": {
      "text/plain": [
       "array(['Single', nan, 'Married', 'Widowed', 'Divorced'], dtype=object)"
      ]
     },
     "execution_count": 375,
     "metadata": {},
     "output_type": "execute_result"
    }
   ],
   "source": [
    "df.loc[:, 'Marital Status'].replace({'M':'Married', 'S':'Single', 'W':'Widowed', ' ':np.nan}, inplace=True)\n",
    "df.loc[:, 'Marital Status'].unique()"
   ]
  },
  {
   "cell_type": "code",
   "execution_count": 376,
   "metadata": {},
   "outputs": [
    {
     "data": {
      "text/html": [
       "<div>\n",
       "<style scoped>\n",
       "    .dataframe tbody tr th:only-of-type {\n",
       "        vertical-align: middle;\n",
       "    }\n",
       "\n",
       "    .dataframe tbody tr th {\n",
       "        vertical-align: top;\n",
       "    }\n",
       "\n",
       "    .dataframe thead th {\n",
       "        text-align: right;\n",
       "    }\n",
       "</style>\n",
       "<table border=\"1\" class=\"dataframe\">\n",
       "  <thead>\n",
       "    <tr style=\"text-align: right;\">\n",
       "      <th></th>\n",
       "      <th>House Number</th>\n",
       "      <th>Street</th>\n",
       "      <th>First Name</th>\n",
       "      <th>Surname</th>\n",
       "      <th>Age</th>\n",
       "      <th>Relationship to Head of House</th>\n",
       "      <th>Marital Status</th>\n",
       "      <th>Gender</th>\n",
       "      <th>Occupation</th>\n",
       "      <th>Infirmity</th>\n",
       "      <th>Religion</th>\n",
       "    </tr>\n",
       "  </thead>\n",
       "  <tbody>\n",
       "    <tr>\n",
       "      <th>2</th>\n",
       "      <td>1</td>\n",
       "      <td>Renaissance Lane</td>\n",
       "      <td>Mark</td>\n",
       "      <td>Johnston</td>\n",
       "      <td>6</td>\n",
       "      <td>Son</td>\n",
       "      <td>NaN</td>\n",
       "      <td>Male</td>\n",
       "      <td>Student</td>\n",
       "      <td>None</td>\n",
       "      <td>NaN</td>\n",
       "    </tr>\n",
       "    <tr>\n",
       "      <th>3</th>\n",
       "      <td>1</td>\n",
       "      <td>Renaissance Lane</td>\n",
       "      <td>Teresa</td>\n",
       "      <td>Johnston</td>\n",
       "      <td>3</td>\n",
       "      <td>Daughter</td>\n",
       "      <td>NaN</td>\n",
       "      <td>Female</td>\n",
       "      <td>Child</td>\n",
       "      <td>None</td>\n",
       "      <td>NaN</td>\n",
       "    </tr>\n",
       "    <tr>\n",
       "      <th>14</th>\n",
       "      <td>6</td>\n",
       "      <td>Renaissance Lane</td>\n",
       "      <td>Karl</td>\n",
       "      <td>Butler</td>\n",
       "      <td>14</td>\n",
       "      <td>Son</td>\n",
       "      <td>NaN</td>\n",
       "      <td>Male</td>\n",
       "      <td>Student</td>\n",
       "      <td>None</td>\n",
       "      <td>NaN</td>\n",
       "    </tr>\n",
       "    <tr>\n",
       "      <th>21</th>\n",
       "      <td>9</td>\n",
       "      <td>Renaissance Lane</td>\n",
       "      <td>Albert</td>\n",
       "      <td>Patel</td>\n",
       "      <td>17</td>\n",
       "      <td>Son</td>\n",
       "      <td>NaN</td>\n",
       "      <td>Male</td>\n",
       "      <td>Student</td>\n",
       "      <td>None</td>\n",
       "      <td>NaN</td>\n",
       "    </tr>\n",
       "    <tr>\n",
       "      <th>28</th>\n",
       "      <td>13</td>\n",
       "      <td>Renaissance Lane</td>\n",
       "      <td>Kirsty</td>\n",
       "      <td>Thompson</td>\n",
       "      <td>11</td>\n",
       "      <td>Daughter</td>\n",
       "      <td>NaN</td>\n",
       "      <td>Female</td>\n",
       "      <td>Student</td>\n",
       "      <td>None</td>\n",
       "      <td>NaN</td>\n",
       "    </tr>\n",
       "    <tr>\n",
       "      <th>...</th>\n",
       "      <td>...</td>\n",
       "      <td>...</td>\n",
       "      <td>...</td>\n",
       "      <td>...</td>\n",
       "      <td>...</td>\n",
       "      <td>...</td>\n",
       "      <td>...</td>\n",
       "      <td>...</td>\n",
       "      <td>...</td>\n",
       "      <td>...</td>\n",
       "      <td>...</td>\n",
       "    </tr>\n",
       "    <tr>\n",
       "      <th>11110</th>\n",
       "      <td>1</td>\n",
       "      <td>Johnson Inn</td>\n",
       "      <td>Anthony</td>\n",
       "      <td>Hicks</td>\n",
       "      <td>4</td>\n",
       "      <td>Son</td>\n",
       "      <td>NaN</td>\n",
       "      <td>Male</td>\n",
       "      <td>Child</td>\n",
       "      <td>None</td>\n",
       "      <td>NaN</td>\n",
       "    </tr>\n",
       "    <tr>\n",
       "      <th>11112</th>\n",
       "      <td>1</td>\n",
       "      <td>Racoon Hall</td>\n",
       "      <td>Maria</td>\n",
       "      <td>Gregory</td>\n",
       "      <td>16</td>\n",
       "      <td>Granddaughter</td>\n",
       "      <td>NaN</td>\n",
       "      <td>Female</td>\n",
       "      <td>Student</td>\n",
       "      <td>None</td>\n",
       "      <td>NaN</td>\n",
       "    </tr>\n",
       "    <tr>\n",
       "      <th>11113</th>\n",
       "      <td>1</td>\n",
       "      <td>Racoon Hall</td>\n",
       "      <td>Tracey</td>\n",
       "      <td>Gregory</td>\n",
       "      <td>12</td>\n",
       "      <td>Granddaughter</td>\n",
       "      <td>NaN</td>\n",
       "      <td>Female</td>\n",
       "      <td>Student</td>\n",
       "      <td>None</td>\n",
       "      <td>NaN</td>\n",
       "    </tr>\n",
       "    <tr>\n",
       "      <th>11114</th>\n",
       "      <td>1</td>\n",
       "      <td>Racoon Hall</td>\n",
       "      <td>Nigel</td>\n",
       "      <td>Macdonald</td>\n",
       "      <td>8</td>\n",
       "      <td>Grandson</td>\n",
       "      <td>NaN</td>\n",
       "      <td>Male</td>\n",
       "      <td>Student</td>\n",
       "      <td>None</td>\n",
       "      <td>NaN</td>\n",
       "    </tr>\n",
       "    <tr>\n",
       "      <th>11115</th>\n",
       "      <td>1</td>\n",
       "      <td>Racoon Hall</td>\n",
       "      <td>Natalie</td>\n",
       "      <td>Francis</td>\n",
       "      <td>1</td>\n",
       "      <td>Granddaughter</td>\n",
       "      <td>NaN</td>\n",
       "      <td>Female</td>\n",
       "      <td>Child</td>\n",
       "      <td>None</td>\n",
       "      <td>NaN</td>\n",
       "    </tr>\n",
       "  </tbody>\n",
       "</table>\n",
       "<p>2766 rows × 11 columns</p>\n",
       "</div>"
      ],
      "text/plain": [
       "       House Number            Street First Name    Surname  Age  \\\n",
       "2                 1  Renaissance Lane       Mark   Johnston    6   \n",
       "3                 1  Renaissance Lane     Teresa   Johnston    3   \n",
       "14                6  Renaissance Lane       Karl     Butler   14   \n",
       "21                9  Renaissance Lane     Albert      Patel   17   \n",
       "28               13  Renaissance Lane     Kirsty   Thompson   11   \n",
       "...             ...               ...        ...        ...  ...   \n",
       "11110             1       Johnson Inn    Anthony      Hicks    4   \n",
       "11112             1       Racoon Hall      Maria    Gregory   16   \n",
       "11113             1       Racoon Hall     Tracey    Gregory   12   \n",
       "11114             1       Racoon Hall      Nigel  Macdonald    8   \n",
       "11115             1       Racoon Hall    Natalie    Francis    1   \n",
       "\n",
       "      Relationship to Head of House Marital Status  Gender Occupation  \\\n",
       "2                               Son            NaN    Male    Student   \n",
       "3                          Daughter            NaN  Female      Child   \n",
       "14                              Son            NaN    Male    Student   \n",
       "21                              Son            NaN    Male    Student   \n",
       "28                         Daughter            NaN  Female    Student   \n",
       "...                             ...            ...     ...        ...   \n",
       "11110                           Son            NaN    Male      Child   \n",
       "11112                 Granddaughter            NaN  Female    Student   \n",
       "11113                 Granddaughter            NaN  Female    Student   \n",
       "11114                      Grandson            NaN    Male    Student   \n",
       "11115                 Granddaughter            NaN  Female      Child   \n",
       "\n",
       "      Infirmity Religion  \n",
       "2          None      NaN  \n",
       "3          None      NaN  \n",
       "14         None      NaN  \n",
       "21         None      NaN  \n",
       "28         None      NaN  \n",
       "...         ...      ...  \n",
       "11110      None      NaN  \n",
       "11112      None      NaN  \n",
       "11113      None      NaN  \n",
       "11114      None      NaN  \n",
       "11115      None      NaN  \n",
       "\n",
       "[2766 rows x 11 columns]"
      ]
     },
     "execution_count": 376,
     "metadata": {},
     "output_type": "execute_result"
    }
   ],
   "source": [
    "nan_marital_status = df[df.loc[:,'Marital Status'].isna()]\n",
    "nan_marital_status"
   ]
  },
  {
   "cell_type": "code",
   "execution_count": 377,
   "metadata": {},
   "outputs": [
    {
     "data": {
      "text/html": [
       "<div>\n",
       "<style scoped>\n",
       "    .dataframe tbody tr th:only-of-type {\n",
       "        vertical-align: middle;\n",
       "    }\n",
       "\n",
       "    .dataframe tbody tr th {\n",
       "        vertical-align: top;\n",
       "    }\n",
       "\n",
       "    .dataframe thead th {\n",
       "        text-align: right;\n",
       "    }\n",
       "</style>\n",
       "<table border=\"1\" class=\"dataframe\">\n",
       "  <thead>\n",
       "    <tr style=\"text-align: right;\">\n",
       "      <th></th>\n",
       "      <th>House Number</th>\n",
       "      <th>Street</th>\n",
       "      <th>First Name</th>\n",
       "      <th>Surname</th>\n",
       "      <th>Age</th>\n",
       "      <th>Relationship to Head of House</th>\n",
       "      <th>Marital Status</th>\n",
       "      <th>Gender</th>\n",
       "      <th>Occupation</th>\n",
       "      <th>Infirmity</th>\n",
       "      <th>Religion</th>\n",
       "    </tr>\n",
       "  </thead>\n",
       "  <tbody>\n",
       "    <tr>\n",
       "      <th>3852</th>\n",
       "      <td>48</td>\n",
       "      <td>White Cliffs</td>\n",
       "      <td>Fiona</td>\n",
       "      <td>Smith</td>\n",
       "      <td>18</td>\n",
       "      <td>Daughter</td>\n",
       "      <td>NaN</td>\n",
       "      <td>Female</td>\n",
       "      <td>Student</td>\n",
       "      <td>None</td>\n",
       "      <td>NaN</td>\n",
       "    </tr>\n",
       "    <tr>\n",
       "      <th>3853</th>\n",
       "      <td>48</td>\n",
       "      <td>White Cliffs</td>\n",
       "      <td>Maureen</td>\n",
       "      <td>Lee</td>\n",
       "      <td>19</td>\n",
       "      <td>Daughter</td>\n",
       "      <td>NaN</td>\n",
       "      <td>Female</td>\n",
       "      <td>Student</td>\n",
       "      <td>None</td>\n",
       "      <td>NaN</td>\n",
       "    </tr>\n",
       "    <tr>\n",
       "      <th>7095</th>\n",
       "      <td>9</td>\n",
       "      <td>Parsons Vista</td>\n",
       "      <td>Dylan</td>\n",
       "      <td>Williams</td>\n",
       "      <td>20</td>\n",
       "      <td>Head</td>\n",
       "      <td>NaN</td>\n",
       "      <td>Male</td>\n",
       "      <td>University Student</td>\n",
       "      <td>None</td>\n",
       "      <td>Catholic</td>\n",
       "    </tr>\n",
       "    <tr>\n",
       "      <th>8680</th>\n",
       "      <td>74</td>\n",
       "      <td>Sharkwash Road</td>\n",
       "      <td>Anna</td>\n",
       "      <td>Price</td>\n",
       "      <td>30</td>\n",
       "      <td>Head</td>\n",
       "      <td>NaN</td>\n",
       "      <td>Female</td>\n",
       "      <td>Plant breeder/geneticist</td>\n",
       "      <td>None</td>\n",
       "      <td>Christian</td>\n",
       "    </tr>\n",
       "    <tr>\n",
       "      <th>9090</th>\n",
       "      <td>30</td>\n",
       "      <td>Newton Lane</td>\n",
       "      <td>Michael</td>\n",
       "      <td>Smith</td>\n",
       "      <td>29</td>\n",
       "      <td>Son</td>\n",
       "      <td>NaN</td>\n",
       "      <td>Male</td>\n",
       "      <td>Biomedical scientist</td>\n",
       "      <td>None</td>\n",
       "      <td>None</td>\n",
       "    </tr>\n",
       "  </tbody>\n",
       "</table>\n",
       "</div>"
      ],
      "text/plain": [
       "      House Number          Street First Name   Surname  Age  \\\n",
       "3852            48    White Cliffs      Fiona     Smith   18   \n",
       "3853            48    White Cliffs    Maureen       Lee   19   \n",
       "7095             9   Parsons Vista      Dylan  Williams   20   \n",
       "8680            74  Sharkwash Road       Anna     Price   30   \n",
       "9090            30     Newton Lane    Michael     Smith   29   \n",
       "\n",
       "     Relationship to Head of House Marital Status  Gender  \\\n",
       "3852                      Daughter            NaN  Female   \n",
       "3853                      Daughter            NaN  Female   \n",
       "7095                          Head            NaN    Male   \n",
       "8680                          Head            NaN  Female   \n",
       "9090                           Son            NaN    Male   \n",
       "\n",
       "                    Occupation Infirmity   Religion  \n",
       "3852                   Student      None        NaN  \n",
       "3853                   Student      None        NaN  \n",
       "7095        University Student      None   Catholic  \n",
       "8680  Plant breeder/geneticist      None  Christian  \n",
       "9090      Biomedical scientist      None       None  "
      ]
     },
     "execution_count": 377,
     "metadata": {},
     "output_type": "execute_result"
    }
   ],
   "source": [
    "# Check if there are non-minors with NaN values\n",
    "nan_marital_status.loc[pd.to_numeric(df.Age)>=18]"
   ]
  },
  {
   "cell_type": "code",
   "execution_count": 378,
   "metadata": {},
   "outputs": [],
   "source": [
    "# Since the persons with null values above are above 18, they cannot be minors\n",
    "\n",
    "df[df.loc[:,'Marital Status'].isna()].loc[pd.to_numeric(df.Age)>=18].fillna('Single', inplace=True)\n",
    "\n"
   ]
  },
  {
   "cell_type": "markdown",
   "metadata": {},
   "source": [
    "# Gender"
   ]
  },
  {
   "cell_type": "code",
   "execution_count": 379,
   "metadata": {},
   "outputs": [
    {
     "data": {
      "text/plain": [
       "array(['Female', 'Male', 'M', 'FEMALE', 'MALE', 'F', ' ', nan],\n",
       "      dtype=object)"
      ]
     },
     "execution_count": 379,
     "metadata": {},
     "output_type": "execute_result"
    }
   ],
   "source": [
    "df.Gender.unique()"
   ]
  },
  {
   "cell_type": "code",
   "execution_count": 380,
   "metadata": {},
   "outputs": [],
   "source": [
    "substitution = {'F': 'Female', \"\": np.nan, 'M': 'Male', }\n",
    "df['Gender'] = df['Gender'].str.title().str.strip().replace(substitution)"
   ]
  },
  {
   "cell_type": "code",
   "execution_count": 381,
   "metadata": {},
   "outputs": [
    {
     "data": {
      "text/plain": [
       "0        False\n",
       "1        False\n",
       "2        False\n",
       "3        False\n",
       "4        False\n",
       "         ...  \n",
       "11113    False\n",
       "11114    False\n",
       "11115    False\n",
       "11116    False\n",
       "11117    False\n",
       "Name: Gender, Length: 11118, dtype: bool"
      ]
     },
     "execution_count": 381,
     "metadata": {},
     "output_type": "execute_result"
    }
   ],
   "source": [
    "df.Gender.isna()"
   ]
  },
  {
   "cell_type": "code",
   "execution_count": 382,
   "metadata": {},
   "outputs": [
    {
     "data": {
      "text/html": [
       "<div>\n",
       "<style scoped>\n",
       "    .dataframe tbody tr th:only-of-type {\n",
       "        vertical-align: middle;\n",
       "    }\n",
       "\n",
       "    .dataframe tbody tr th {\n",
       "        vertical-align: top;\n",
       "    }\n",
       "\n",
       "    .dataframe thead th {\n",
       "        text-align: right;\n",
       "    }\n",
       "</style>\n",
       "<table border=\"1\" class=\"dataframe\">\n",
       "  <thead>\n",
       "    <tr style=\"text-align: right;\">\n",
       "      <th></th>\n",
       "      <th>House Number</th>\n",
       "      <th>Street</th>\n",
       "      <th>First Name</th>\n",
       "      <th>Surname</th>\n",
       "      <th>Age</th>\n",
       "      <th>Relationship to Head of House</th>\n",
       "      <th>Marital Status</th>\n",
       "      <th>Gender</th>\n",
       "      <th>Occupation</th>\n",
       "      <th>Infirmity</th>\n",
       "      <th>Religion</th>\n",
       "    </tr>\n",
       "  </thead>\n",
       "  <tbody>\n",
       "    <tr>\n",
       "      <th>3298</th>\n",
       "      <td>54</td>\n",
       "      <td>Railwaycharm Street</td>\n",
       "      <td>Leonard</td>\n",
       "      <td>Mahmood</td>\n",
       "      <td>38</td>\n",
       "      <td>Husband</td>\n",
       "      <td>Married</td>\n",
       "      <td>NaN</td>\n",
       "      <td>Risk manager</td>\n",
       "      <td>None</td>\n",
       "      <td>Catholic</td>\n",
       "    </tr>\n",
       "    <tr>\n",
       "      <th>7330</th>\n",
       "      <td>17</td>\n",
       "      <td>Payne Square</td>\n",
       "      <td>Victoria</td>\n",
       "      <td>James</td>\n",
       "      <td>37</td>\n",
       "      <td>Head</td>\n",
       "      <td>Married</td>\n",
       "      <td>NaN</td>\n",
       "      <td>Solicitor, Scotland</td>\n",
       "      <td>None</td>\n",
       "      <td>Christian</td>\n",
       "    </tr>\n",
       "    <tr>\n",
       "      <th>7743</th>\n",
       "      <td>25</td>\n",
       "      <td>Panther Street</td>\n",
       "      <td>Nigel</td>\n",
       "      <td>Fisher</td>\n",
       "      <td>35</td>\n",
       "      <td>Adopted Son</td>\n",
       "      <td>Divorced</td>\n",
       "      <td>NaN</td>\n",
       "      <td>Corporate investment banker</td>\n",
       "      <td>None</td>\n",
       "      <td>Christian</td>\n",
       "    </tr>\n",
       "  </tbody>\n",
       "</table>\n",
       "</div>"
      ],
      "text/plain": [
       "      House Number               Street First Name  Surname  Age  \\\n",
       "3298            54  Railwaycharm Street    Leonard  Mahmood   38   \n",
       "7330            17         Payne Square   Victoria    James   37   \n",
       "7743            25       Panther Street      Nigel   Fisher   35   \n",
       "\n",
       "     Relationship to Head of House Marital Status Gender  \\\n",
       "3298                       Husband        Married    NaN   \n",
       "7330                          Head        Married    NaN   \n",
       "7743                   Adopted Son       Divorced    NaN   \n",
       "\n",
       "                       Occupation Infirmity   Religion  \n",
       "3298                 Risk manager      None   Catholic  \n",
       "7330          Solicitor, Scotland      None  Christian  \n",
       "7743  Corporate investment banker      None  Christian  "
      ]
     },
     "execution_count": 382,
     "metadata": {},
     "output_type": "execute_result"
    }
   ],
   "source": [
    "df.loc[df['Gender'].isna()]"
   ]
  },
  {
   "cell_type": "code",
   "execution_count": 383,
   "metadata": {},
   "outputs": [],
   "source": [
    "df.loc[3298, 'Gender'] = 'Male'"
   ]
  },
  {
   "cell_type": "code",
   "execution_count": 384,
   "metadata": {},
   "outputs": [
    {
     "data": {
      "text/html": [
       "<div>\n",
       "<style scoped>\n",
       "    .dataframe tbody tr th:only-of-type {\n",
       "        vertical-align: middle;\n",
       "    }\n",
       "\n",
       "    .dataframe tbody tr th {\n",
       "        vertical-align: top;\n",
       "    }\n",
       "\n",
       "    .dataframe thead th {\n",
       "        text-align: right;\n",
       "    }\n",
       "</style>\n",
       "<table border=\"1\" class=\"dataframe\">\n",
       "  <thead>\n",
       "    <tr style=\"text-align: right;\">\n",
       "      <th></th>\n",
       "      <th>House Number</th>\n",
       "      <th>Street</th>\n",
       "      <th>First Name</th>\n",
       "      <th>Surname</th>\n",
       "      <th>Age</th>\n",
       "      <th>Relationship to Head of House</th>\n",
       "      <th>Marital Status</th>\n",
       "      <th>Gender</th>\n",
       "      <th>Occupation</th>\n",
       "      <th>Infirmity</th>\n",
       "      <th>Religion</th>\n",
       "    </tr>\n",
       "  </thead>\n",
       "  <tbody>\n",
       "    <tr>\n",
       "      <th>7330</th>\n",
       "      <td>17</td>\n",
       "      <td>Payne Square</td>\n",
       "      <td>Victoria</td>\n",
       "      <td>James</td>\n",
       "      <td>37</td>\n",
       "      <td>Head</td>\n",
       "      <td>Married</td>\n",
       "      <td>NaN</td>\n",
       "      <td>Solicitor, Scotland</td>\n",
       "      <td>None</td>\n",
       "      <td>Christian</td>\n",
       "    </tr>\n",
       "    <tr>\n",
       "      <th>7331</th>\n",
       "      <td>17</td>\n",
       "      <td>Payne Square</td>\n",
       "      <td>Gareth</td>\n",
       "      <td>James</td>\n",
       "      <td>42</td>\n",
       "      <td>Husband</td>\n",
       "      <td>Married</td>\n",
       "      <td>Male</td>\n",
       "      <td>Broadcast engineer</td>\n",
       "      <td>None</td>\n",
       "      <td>None</td>\n",
       "    </tr>\n",
       "    <tr>\n",
       "      <th>7332</th>\n",
       "      <td>17</td>\n",
       "      <td>Payne Square</td>\n",
       "      <td>Aimee</td>\n",
       "      <td>James</td>\n",
       "      <td>2</td>\n",
       "      <td>Daughter</td>\n",
       "      <td>NaN</td>\n",
       "      <td>Female</td>\n",
       "      <td>Child</td>\n",
       "      <td>None</td>\n",
       "      <td>NaN</td>\n",
       "    </tr>\n",
       "  </tbody>\n",
       "</table>\n",
       "</div>"
      ],
      "text/plain": [
       "      House Number        Street First Name Surname  Age  \\\n",
       "7330            17  Payne Square   Victoria   James   37   \n",
       "7331            17  Payne Square     Gareth   James   42   \n",
       "7332            17  Payne Square      Aimee   James    2   \n",
       "\n",
       "     Relationship to Head of House Marital Status  Gender  \\\n",
       "7330                          Head        Married     NaN   \n",
       "7331                       Husband        Married    Male   \n",
       "7332                      Daughter            NaN  Female   \n",
       "\n",
       "               Occupation Infirmity   Religion  \n",
       "7330  Solicitor, Scotland      None  Christian  \n",
       "7331   Broadcast engineer      None       None  \n",
       "7332                Child      None        NaN  "
      ]
     },
     "execution_count": 384,
     "metadata": {},
     "output_type": "execute_result"
    }
   ],
   "source": [
    "df.loc[7330:7332, :] "
   ]
  },
  {
   "cell_type": "code",
   "execution_count": 385,
   "metadata": {},
   "outputs": [],
   "source": [
    "df.loc[7330, 'Gender'] = 'Female'"
   ]
  },
  {
   "cell_type": "code",
   "execution_count": 386,
   "metadata": {},
   "outputs": [
    {
     "data": {
      "text/html": [
       "<div>\n",
       "<style scoped>\n",
       "    .dataframe tbody tr th:only-of-type {\n",
       "        vertical-align: middle;\n",
       "    }\n",
       "\n",
       "    .dataframe tbody tr th {\n",
       "        vertical-align: top;\n",
       "    }\n",
       "\n",
       "    .dataframe thead th {\n",
       "        text-align: right;\n",
       "    }\n",
       "</style>\n",
       "<table border=\"1\" class=\"dataframe\">\n",
       "  <thead>\n",
       "    <tr style=\"text-align: right;\">\n",
       "      <th></th>\n",
       "      <th>House Number</th>\n",
       "      <th>Street</th>\n",
       "      <th>First Name</th>\n",
       "      <th>Surname</th>\n",
       "      <th>Age</th>\n",
       "      <th>Relationship to Head of House</th>\n",
       "      <th>Marital Status</th>\n",
       "      <th>Gender</th>\n",
       "      <th>Occupation</th>\n",
       "      <th>Infirmity</th>\n",
       "      <th>Religion</th>\n",
       "    </tr>\n",
       "  </thead>\n",
       "  <tbody>\n",
       "    <tr>\n",
       "      <th>7742</th>\n",
       "      <td>25</td>\n",
       "      <td>Panther Street</td>\n",
       "      <td>Abbie</td>\n",
       "      <td>Fisher</td>\n",
       "      <td>67</td>\n",
       "      <td>Wife</td>\n",
       "      <td>Married</td>\n",
       "      <td>Female</td>\n",
       "      <td>Archivist</td>\n",
       "      <td>None</td>\n",
       "      <td>Christian</td>\n",
       "    </tr>\n",
       "    <tr>\n",
       "      <th>7743</th>\n",
       "      <td>25</td>\n",
       "      <td>Panther Street</td>\n",
       "      <td>Nigel</td>\n",
       "      <td>Fisher</td>\n",
       "      <td>35</td>\n",
       "      <td>Adopted Son</td>\n",
       "      <td>Divorced</td>\n",
       "      <td>NaN</td>\n",
       "      <td>Corporate investment banker</td>\n",
       "      <td>None</td>\n",
       "      <td>Christian</td>\n",
       "    </tr>\n",
       "    <tr>\n",
       "      <th>7744</th>\n",
       "      <td>25</td>\n",
       "      <td>Panther Street</td>\n",
       "      <td>June</td>\n",
       "      <td>Marsh-Fisher</td>\n",
       "      <td>27</td>\n",
       "      <td>Daughter</td>\n",
       "      <td>Single</td>\n",
       "      <td>Female</td>\n",
       "      <td>Advertising account executive</td>\n",
       "      <td>None</td>\n",
       "      <td>Christian</td>\n",
       "    </tr>\n",
       "  </tbody>\n",
       "</table>\n",
       "</div>"
      ],
      "text/plain": [
       "      House Number          Street First Name       Surname  Age  \\\n",
       "7742            25  Panther Street      Abbie        Fisher   67   \n",
       "7743            25  Panther Street      Nigel        Fisher   35   \n",
       "7744            25  Panther Street       June  Marsh-Fisher   27   \n",
       "\n",
       "     Relationship to Head of House Marital Status  Gender  \\\n",
       "7742                          Wife        Married  Female   \n",
       "7743                   Adopted Son       Divorced     NaN   \n",
       "7744                      Daughter         Single  Female   \n",
       "\n",
       "                         Occupation Infirmity   Religion  \n",
       "7742                      Archivist      None  Christian  \n",
       "7743    Corporate investment banker      None  Christian  \n",
       "7744  Advertising account executive      None  Christian  "
      ]
     },
     "execution_count": 386,
     "metadata": {},
     "output_type": "execute_result"
    }
   ],
   "source": [
    "df.loc[7742:7744, :]"
   ]
  },
  {
   "cell_type": "code",
   "execution_count": 387,
   "metadata": {},
   "outputs": [
    {
     "data": {
      "text/plain": [
       "House Number                        0\n",
       "Street                              0\n",
       "First Name                          2\n",
       "Surname                             1\n",
       "Age                                 0\n",
       "Relationship to Head of House       0\n",
       "Marital Status                   2766\n",
       "Gender                              0\n",
       "Occupation                          0\n",
       "Infirmity                           0\n",
       "Religion                         2824\n",
       "dtype: int64"
      ]
     },
     "execution_count": 387,
     "metadata": {},
     "output_type": "execute_result"
    }
   ],
   "source": [
    "## Since the person with nan in row 7743 is an Adopted Son, he is a Male\n",
    "\n",
    "df.loc[7743, 'Gender'] = 'Male'\n",
    "\n",
    "df.isna().sum()"
   ]
  },
  {
   "cell_type": "markdown",
   "metadata": {},
   "source": [
    "### Religion"
   ]
  },
  {
   "cell_type": "code",
   "execution_count": 388,
   "metadata": {},
   "outputs": [
    {
     "data": {
      "text/plain": [
       "array(['Methodist', nan, 'Christian', 'None', 'Sikh', 'Catholic',\n",
       "       'Muslim', 'Jewish', 'Agnostic', 'Hindu', 'Undecided', 'Buddist',\n",
       "       ' ', 'Nope', 'Female', 'Pagan', 'Jedi'], dtype=object)"
      ]
     },
     "execution_count": 388,
     "metadata": {},
     "output_type": "execute_result"
    }
   ],
   "source": [
    "df.loc[:, 'Religion'].unique()"
   ]
  },
  {
   "cell_type": "code",
   "execution_count": 389,
   "metadata": {},
   "outputs": [
    {
     "data": {
      "text/plain": [
       "array(['Methodist', 'No belief', 'Christian', 'Sikh', 'Catholic',\n",
       "       'Muslim', 'Jewish', 'Agnostic', 'Hindu', 'Buddist', 'Pagan',\n",
       "       'Jedi'], dtype=object)"
      ]
     },
     "execution_count": 389,
     "metadata": {},
     "output_type": "execute_result"
    }
   ],
   "source": [
    "df.loc[:, 'Religion'].replace({' ':np.nan, 'Nope':np.nan, 'Female':np.nan, 'None':np.nan, 'Undecided':np.nan}, inplace=True)\n",
    "# df.loc[:, 'Religion'].replace({'Methodist':'Christian', 'Catholic':'Christian'}, inplace=True)\n",
    "df.loc[:, 'Religion'].fillna('No belief', inplace=True)\n",
    "df.loc[:, 'Religion'].unique()"
   ]
  },
  {
   "cell_type": "code",
   "execution_count": 390,
   "metadata": {},
   "outputs": [
    {
     "data": {
      "text/plain": [
       "House Number                        0\n",
       "Street                              0\n",
       "First Name                          2\n",
       "Surname                             1\n",
       "Age                                 0\n",
       "Relationship to Head of House       0\n",
       "Marital Status                   2766\n",
       "Gender                              0\n",
       "Occupation                          0\n",
       "Infirmity                           0\n",
       "Religion                            0\n",
       "dtype: int64"
      ]
     },
     "execution_count": 390,
     "metadata": {},
     "output_type": "execute_result"
    }
   ],
   "source": [
    "df.isna().sum()"
   ]
  },
  {
   "cell_type": "markdown",
   "metadata": {},
   "source": [
    "# Data Analysis"
   ]
  },
  {
   "cell_type": "code",
   "execution_count": 391,
   "metadata": {},
   "outputs": [
    {
     "data": {
      "text/plain": [
       "array(['Visual merchandiser', 'Biomedical engineer', 'Student', ...,\n",
       "       'Retired Journalist, broadcasting',\n",
       "       'Retired English as a second language teacher',\n",
       "       'Retired Optician, dispensing'], dtype=object)"
      ]
     },
     "execution_count": 391,
     "metadata": {},
     "output_type": "execute_result"
    }
   ],
   "source": [
    "df['Occupation'].unique()"
   ]
  },
  {
   "cell_type": "code",
   "execution_count": 392,
   "metadata": {},
   "outputs": [
    {
     "data": {
      "text/plain": [
       "House Number  Street          \n",
       "1             Acorn Delve         5\n",
       "              Albanspay Road      1\n",
       "              Anglia Mountains    1\n",
       "              Armaghfast Lane     2\n",
       "              Beaver Factory      8\n",
       "Name: Age, dtype: int64"
      ]
     },
     "execution_count": 392,
     "metadata": {},
     "output_type": "execute_result"
    }
   ],
   "source": [
    "count_per_house = df.groupby(['House Number', 'Street'])['Age'].count()\n",
    "count_per_house.head()"
   ]
  },
  {
   "cell_type": "code",
   "execution_count": 393,
   "metadata": {},
   "outputs": [
    {
     "data": {
      "image/png": "[encoded data removed]",
      "text/plain": [
       "<Figure size 864x576 with 1 Axes>"
      ]
     },
     "metadata": {
      "needs_background": "light"
     },
     "output_type": "display_data"
    }
   ],
   "source": [
    "fig = plt.figure(figsize=(12, 8))\n",
    "sns.histplot(count_per_house.reset_index(), x='Age')\n",
    "plt.show()"
   ]
  },
  {
   "cell_type": "markdown",
   "metadata": {},
   "source": [
    "### Need to Build Train Station"
   ]
  },
  {
   "cell_type": "code",
   "execution_count": 394,
   "metadata": {},
   "outputs": [],
   "source": [
    "# Relace all teacher-related occupations with Teacher\n",
    "# \n",
    "df_train = df\n",
    "df_train.loc[df_train.Occupation.str.lower().str.contains('teacher'), 'Occupation'] = 'Teacher'"
   ]
  },
  {
   "cell_type": "code",
   "execution_count": 395,
   "metadata": {},
   "outputs": [
    {
     "data": {
      "text/plain": [
       "['Visual merchandiser',\n",
       " 'Biomedical engineer',\n",
       " 'Student',\n",
       " 'Child',\n",
       " 'Teacher',\n",
       " 'Retired Tree surgeon',\n",
       " 'Housing manager/officer',\n",
       " 'Illustrator',\n",
       " 'Retired Farm manager',\n",
       " 'University Student',\n",
       " 'Art gallery manager',\n",
       " 'Seismic interpreter',\n",
       " 'Sales executive',\n",
       " 'Chartered accountant',\n",
       " 'Social worker',\n",
       " 'Unemployed',\n",
       " 'Psychologist, counselling',\n",
       " 'Statistician',\n",
       " 'Immigration officer',\n",
       " 'Academic librarian',\n",
       " 'Production designer, theatre/television/film',\n",
       " 'Podiatrist',\n",
       " 'Retired Therapist, horticultural',\n",
       " 'Dentist',\n",
       " 'Retired Engineer, production',\n",
       " 'Retired Furniture designer',\n",
       " 'Operational investment banker',\n",
       " 'Intelligence analyst',\n",
       " 'Armed forces logistics/support/administrative officer',\n",
       " 'Waste management officer',\n",
       " 'Holiday representative',\n",
       " 'Media buyer',\n",
       " 'Retired Further education lecturer',\n",
       " 'Microbiologist',\n",
       " 'Product/process development scientist',\n",
       " 'Clinical cytogeneticist',\n",
       " 'Tourism officer',\n",
       " 'Community development worker',\n",
       " 'Barrister',\n",
       " 'Pharmacologist',\n",
       " 'Government social research officer',\n",
       " 'Engineer, communications',\n",
       " 'Therapist, occupational',\n",
       " 'Cabin crew',\n",
       " 'Retired Agricultural engineer',\n",
       " 'Financial manager',\n",
       " 'Magazine journalist',\n",
       " 'Accountant, chartered certified',\n",
       " 'Maintenance engineer',\n",
       " 'Adult guidance worker',\n",
       " 'Water engineer',\n",
       " 'Retired Charity fundraiser',\n",
       " 'Games developer',\n",
       " 'Music tutor',\n",
       " 'Retired Immigration officer',\n",
       " 'Catering manager',\n",
       " 'Recruitment consultant',\n",
       " 'Charity fundraiser',\n",
       " 'Health promotion specialist',\n",
       " 'Dramatherapist',\n",
       " 'Secretary/administrator',\n",
       " 'Barista',\n",
       " \"Nurse, children's\",\n",
       " 'Programme researcher, broadcasting/film/video',\n",
       " 'Data scientist',\n",
       " 'Geophysical data processor',\n",
       " 'Clinical research associate',\n",
       " 'Ship broker',\n",
       " 'Tour manager',\n",
       " 'Tax adviser',\n",
       " 'Retired Building control surveyor',\n",
       " 'Publishing copy',\n",
       " 'Copywriter, advertising',\n",
       " 'Horticulturist, amenity',\n",
       " 'Broadcast journalist',\n",
       " 'International aid/development worker',\n",
       " 'Water quality scientist',\n",
       " 'Dancer',\n",
       " 'Restaurant manager',\n",
       " 'Colour technologist',\n",
       " 'Administrator, sports',\n",
       " 'Nurse, learning disability',\n",
       " 'Medical secretary',\n",
       " 'Designer, interior/spatial',\n",
       " 'Multimedia programmer',\n",
       " 'Environmental consultant',\n",
       " 'Embryologist, clinical',\n",
       " 'Trade mark attorney',\n",
       " 'Systems developer',\n",
       " 'Building surveyor',\n",
       " 'Photographer',\n",
       " 'Retired Community arts worker',\n",
       " 'Retired Charity officer',\n",
       " 'Radiographer, therapeutic',\n",
       " 'Editor, film/video',\n",
       " 'Art therapist',\n",
       " 'Gaffer',\n",
       " 'Air broker',\n",
       " 'Medical technical officer',\n",
       " 'Surveyor, insurance',\n",
       " 'Hospital pharmacist',\n",
       " 'Mining engineer',\n",
       " 'Surgeon',\n",
       " 'Research scientist (maths)',\n",
       " 'Museum education officer',\n",
       " 'Artist',\n",
       " 'Retired Mudlogger',\n",
       " 'Community arts worker',\n",
       " 'Programmer, applications',\n",
       " 'Production assistant, radio',\n",
       " 'Armed forces training and education officer',\n",
       " 'Horticultural consultant',\n",
       " 'Administrator, local government',\n",
       " 'Retired Secretary, company',\n",
       " 'Archivist',\n",
       " 'Arts administrator',\n",
       " 'Administrator, charities/voluntary organisations',\n",
       " 'Dietitian',\n",
       " 'Drilling engineer',\n",
       " 'Brewing technologist',\n",
       " 'Research scientist (physical sciences)',\n",
       " 'Engineer, manufacturing',\n",
       " 'Journalist, broadcasting',\n",
       " 'Retired Therapist, music',\n",
       " 'Retired Psychologist, educational',\n",
       " 'Video editor',\n",
       " 'Community education officer',\n",
       " 'Psychologist, occupational',\n",
       " 'Corporate investment banker',\n",
       " 'Hydrogeologist',\n",
       " 'Chief Marketing Officer',\n",
       " 'Restaurant manager, fast food',\n",
       " 'Solicitor',\n",
       " 'Journalist, magazine',\n",
       " 'Scientist, water quality',\n",
       " 'Radiographer, diagnostic',\n",
       " 'Web designer',\n",
       " 'Contracting civil engineer',\n",
       " 'Scientist, product/process development',\n",
       " 'Magazine features editor',\n",
       " 'Production manager',\n",
       " 'Energy manager',\n",
       " 'Broadcast engineer',\n",
       " 'Research officer, political party',\n",
       " 'Civil Service fast streamer',\n",
       " 'Architectural technologist',\n",
       " 'Retired Administrator, sports',\n",
       " 'Local government officer',\n",
       " 'Civil engineer, consulting',\n",
       " 'Actor',\n",
       " 'Volunteer coordinator',\n",
       " 'Applications developer',\n",
       " 'Warehouse manager',\n",
       " 'Legal secretary',\n",
       " 'PhD Student',\n",
       " 'Retired Engineer, civil (consulting)',\n",
       " 'Retired Television floor manager',\n",
       " 'Radiation protection practitioner',\n",
       " 'Medical illustrator',\n",
       " 'IT trainer',\n",
       " 'Psychologist, clinical',\n",
       " 'Human resources officer',\n",
       " 'Set designer',\n",
       " 'Programmer, multimedia',\n",
       " 'Oceanographer',\n",
       " 'Land',\n",
       " 'Retired Product/process development scientist',\n",
       " 'Exhibitions officer, museum/gallery',\n",
       " 'Surveyor, rural practice',\n",
       " 'Oncologist',\n",
       " 'Scientific laboratory technician',\n",
       " 'Administrator, arts',\n",
       " 'Therapist, drama',\n",
       " 'Social researcher',\n",
       " 'Retired Commercial horticulturist',\n",
       " 'Retired Research scientist (medical)',\n",
       " 'Higher education careers adviser',\n",
       " 'Senior tax professional/tax inspector',\n",
       " 'Retired Scientist, product/process development',\n",
       " 'Retired Armed forces technical officer',\n",
       " 'Location manager',\n",
       " 'Therapist, art',\n",
       " 'Agricultural engineer',\n",
       " 'Scientist, physiological',\n",
       " 'Surveyor, building control',\n",
       " 'Retail manager',\n",
       " 'Designer, exhibition/display',\n",
       " 'Clinical biochemist',\n",
       " 'Environmental education officer',\n",
       " 'Firefighter',\n",
       " 'Retired Radiographer, therapeutic',\n",
       " 'Retired Surveyor, hydrographic',\n",
       " 'Retired Community pharmacist',\n",
       " 'Fisheries officer',\n",
       " 'Development worker, community',\n",
       " 'Lawyer',\n",
       " 'Audiological scientist',\n",
       " 'Geologist, engineering',\n",
       " 'Engineer, electrical',\n",
       " 'Translator',\n",
       " 'Designer, jewellery',\n",
       " 'Accounting technician',\n",
       " 'Soil scientist',\n",
       " 'Retired Surveyor, building control',\n",
       " 'Press photographer',\n",
       " 'Conservator, museum/gallery',\n",
       " 'Theatre stage manager',\n",
       " 'Sales promotion account executive',\n",
       " 'Retired Mechanical engineer',\n",
       " 'Psychologist, forensic',\n",
       " 'Retired Brewing technologist',\n",
       " 'Retired Environmental consultant',\n",
       " 'Retired Field trials officer',\n",
       " 'Retired Psychiatrist',\n",
       " 'Therapist, nutritional',\n",
       " 'Paramedic',\n",
       " 'Retired Trade mark attorney',\n",
       " 'Patent examiner',\n",
       " 'Pensions consultant',\n",
       " 'Bookseller',\n",
       " 'Retired Database administrator',\n",
       " 'Surveyor, planning and development',\n",
       " 'Retired Broadcast journalist',\n",
       " 'Retired Animal technologist',\n",
       " 'Manufacturing engineer',\n",
       " 'Designer, ceramics/pottery',\n",
       " 'Engineer, maintenance (IT)',\n",
       " 'Retired Public relations officer',\n",
       " 'Professor Emeritus',\n",
       " 'Retired Adult guidance worker',\n",
       " 'Retired Quarry manager',\n",
       " 'Retired Designer, multimedia',\n",
       " 'Retired Engineer, building services',\n",
       " 'Retired Contractor',\n",
       " 'Ergonomist',\n",
       " 'Surveyor, hydrographic',\n",
       " 'Retired Manufacturing systems engineer',\n",
       " 'Youth worker',\n",
       " 'Scientist, biomedical',\n",
       " 'Psychologist, educational',\n",
       " 'Tree surgeon',\n",
       " 'Geologist, wellsite',\n",
       " 'Retired Podiatrist',\n",
       " 'Retired Dentist',\n",
       " 'Animator',\n",
       " 'Merchandiser, retail',\n",
       " 'Designer, graphic',\n",
       " 'Retired Metallurgist',\n",
       " 'Retired Academic librarian',\n",
       " 'Claims inspector/assessor',\n",
       " 'Conference centre manager',\n",
       " 'Retired Animal nutritionist',\n",
       " 'Engineer, broadcasting (operations)',\n",
       " 'Retired Warden/ranger',\n",
       " 'Retired Programme researcher, broadcasting/film/video',\n",
       " 'Surveyor, minerals',\n",
       " 'Engineering geologist',\n",
       " 'Clinical molecular geneticist',\n",
       " 'Equality and diversity officer',\n",
       " 'Retired Architect',\n",
       " 'Exercise physiologist',\n",
       " 'Bonds trader',\n",
       " 'Buyer, industrial',\n",
       " 'Solicitor, Scotland',\n",
       " 'Retired Herpetologist',\n",
       " 'Retired Nurse, learning disability',\n",
       " 'Exhibition designer',\n",
       " 'Data processing manager',\n",
       " 'Engineer, electronics',\n",
       " 'Site engineer',\n",
       " 'Proofreader',\n",
       " 'Surveyor, mining',\n",
       " 'Glass blower/designer',\n",
       " 'Chief Technology Officer',\n",
       " 'Animal nutritionist',\n",
       " 'Minerals surveyor',\n",
       " 'Quarry manager',\n",
       " 'Technical author',\n",
       " 'Psychotherapist, dance movement',\n",
       " 'Careers information officer',\n",
       " 'Further education lecturer',\n",
       " 'Dealer',\n",
       " 'Food technologist',\n",
       " 'Health visitor',\n",
       " 'Insurance claims handler',\n",
       " 'Nurse, adult',\n",
       " 'Banker',\n",
       " 'Call centre manager',\n",
       " 'Nature conservation officer',\n",
       " 'Regulatory affairs officer',\n",
       " 'Lexicographer',\n",
       " 'Retail banker',\n",
       " 'Insurance broker',\n",
       " 'Homeopath',\n",
       " 'Geochemist',\n",
       " 'Conservation officer, nature',\n",
       " 'Psychologist, prison and probation services',\n",
       " 'Architect',\n",
       " 'Building control surveyor',\n",
       " 'Retired Production assistant, radio',\n",
       " 'Retired Telecommunications researcher',\n",
       " 'Retired Restaurant manager, fast food',\n",
       " 'Surveyor, quantity',\n",
       " 'Agricultural consultant',\n",
       " 'Pharmacist, hospital',\n",
       " 'Buyer, retail',\n",
       " 'Medical physicist',\n",
       " 'Designer, fashion/clothing',\n",
       " 'Retired Scientist, biomedical',\n",
       " 'Information systems manager',\n",
       " 'Engineer, automotive',\n",
       " 'Armed forces operational officer',\n",
       " 'Retired Ceramics designer',\n",
       " 'Acupuncturist',\n",
       " 'Administrator',\n",
       " 'Retired Marketing executive',\n",
       " 'Retired Plant breeder/geneticist',\n",
       " 'Retired Broadcast presenter',\n",
       " 'Therapist, speech and language',\n",
       " 'Community pharmacist',\n",
       " 'Retired Geoscientist',\n",
       " 'Retired Librarian, academic',\n",
       " 'Chief Operating Officer',\n",
       " 'Consulting civil engineer',\n",
       " 'Quality manager',\n",
       " 'Retired Secretary/administrator',\n",
       " 'Retired Advice worker',\n",
       " 'Financial risk analyst',\n",
       " 'Fast food restaurant manager',\n",
       " 'Retired Accountant, chartered certified',\n",
       " 'Retired Clothing/textile technologist',\n",
       " 'Retired Multimedia programmer',\n",
       " 'Meteorologist',\n",
       " 'Orthoptist',\n",
       " 'Mechanical engineer',\n",
       " 'Product designer',\n",
       " 'Tax inspector',\n",
       " 'Retired Government social research officer',\n",
       " 'Retired Proofreader',\n",
       " 'Event organiser',\n",
       " 'Chartered certified accountant',\n",
       " 'Scientist, audiological',\n",
       " 'Copy',\n",
       " \"Politician's assistant\",\n",
       " 'Retired Doctor, hospital',\n",
       " 'Hydrologist',\n",
       " 'Scientist, forensic',\n",
       " 'Retired Industrial buyer',\n",
       " 'Best boy',\n",
       " 'Learning mentor',\n",
       " 'Retired Administrator, arts',\n",
       " 'Development worker, international aid',\n",
       " 'Engineer, biomedical',\n",
       " 'Retired Social researcher',\n",
       " 'Retired Waste management officer',\n",
       " 'Hydrographic surveyor',\n",
       " 'Conservator, furniture',\n",
       " 'Graphic designer',\n",
       " 'Clothing/textile technologist',\n",
       " 'General practice doctor',\n",
       " 'Logistics and distribution manager',\n",
       " 'Systems analyst',\n",
       " 'Financial trader',\n",
       " 'Retired Administrator, local government',\n",
       " 'Chartered legal executive (England and Wales)',\n",
       " 'Environmental manager',\n",
       " 'Personal assistant',\n",
       " 'Health and safety adviser',\n",
       " 'Retired Theatre director',\n",
       " 'Retired Information officer',\n",
       " 'Retired Toxicologist',\n",
       " 'Environmental health practitioner',\n",
       " 'Scientist, research (physical sciences)',\n",
       " 'Retired Pilot, airline',\n",
       " 'Telecommunications researcher',\n",
       " 'Futures trader',\n",
       " 'Designer, textile',\n",
       " 'Designer, television/film set',\n",
       " 'Amenity horticulturist',\n",
       " 'Editor, magazine features',\n",
       " 'Accountant, chartered public finance',\n",
       " 'Curator',\n",
       " 'Retired Technical sales engineer',\n",
       " 'Retired Engineer, automotive',\n",
       " 'Retired Games developer',\n",
       " 'Retired Museum/gallery curator',\n",
       " 'Educational psychologist',\n",
       " 'Therapist, horticultural',\n",
       " 'Retired Rural practice surveyor',\n",
       " 'Retired Surveyor, rural practice',\n",
       " 'Retired Health physicist',\n",
       " 'Field trials officer',\n",
       " 'Arboriculturist',\n",
       " 'Retired Office manager',\n",
       " 'Speech and language therapist',\n",
       " 'Merchant navy officer',\n",
       " 'Television floor manager',\n",
       " 'Forensic psychologist',\n",
       " 'IT sales professional',\n",
       " 'Office manager',\n",
       " 'Historic buildings inspector/conservation officer',\n",
       " 'Surveyor, land/geomatics',\n",
       " 'Investment analyst',\n",
       " 'Ecologist',\n",
       " 'Multimedia specialist',\n",
       " 'Education officer, museum',\n",
       " 'Research scientist (medical)',\n",
       " 'Ambulance person',\n",
       " 'Neurosurgeon',\n",
       " 'Biochemist, clinical',\n",
       " 'Retired Commissioning editor',\n",
       " 'Retired Leisure centre manager',\n",
       " 'Actuary',\n",
       " 'Air traffic controller',\n",
       " 'Phytotherapist',\n",
       " 'Music therapist',\n",
       " 'Psychotherapist, child',\n",
       " 'Research officer, trade union',\n",
       " 'Osteopath',\n",
       " 'Operations geologist',\n",
       " 'Media planner',\n",
       " 'Programmer, systems',\n",
       " 'Management consultant',\n",
       " 'Psychiatrist',\n",
       " 'Insurance underwriter',\n",
       " 'Health and safety inspector',\n",
       " 'Retired Producer, television/film/video',\n",
       " 'Aeronautical engineer',\n",
       " 'Patent attorney',\n",
       " 'Administrator, education',\n",
       " 'Engineer, civil (consulting)',\n",
       " 'Teaching laboratory technician',\n",
       " 'Aid worker',\n",
       " 'Retired Education administrator',\n",
       " 'Doctor, general practice',\n",
       " 'Retired Futures trader',\n",
       " 'Editor, commissioning',\n",
       " 'Dispensing optician',\n",
       " 'Retired Arboriculturist',\n",
       " 'Retired Control and instrumentation engineer',\n",
       " 'Retired Animator',\n",
       " 'Clinical embryologist',\n",
       " 'Retired Customer service manager',\n",
       " 'Retired Oncologist',\n",
       " 'Retired Copy',\n",
       " 'Retired Lawyer',\n",
       " 'Interior and spatial designer',\n",
       " 'Retired Information systems manager',\n",
       " 'Optician, dispensing',\n",
       " 'Scientist, clinical (histocompatibility and immunogenetics)',\n",
       " 'Plant breeder/geneticist',\n",
       " 'Retired Therapeutic radiographer',\n",
       " 'Pilot, airline',\n",
       " 'Surveyor, building',\n",
       " 'Licensed conveyancer',\n",
       " 'Research officer, government',\n",
       " 'Planning and development surveyor',\n",
       " 'Land/geomatics surveyor',\n",
       " 'Therapeutic radiographer',\n",
       " 'Pathologist',\n",
       " 'Film/video editor',\n",
       " 'Retired Investment banker, operational',\n",
       " 'Retired Barrister',\n",
       " 'Retired Solicitor, Scotland',\n",
       " 'Optometrist',\n",
       " 'Sound technician, broadcasting/film/video',\n",
       " 'Chemist, analytical',\n",
       " 'Airline pilot',\n",
       " 'Special effects artist',\n",
       " 'Lecturer, further education',\n",
       " 'Public house manager',\n",
       " 'Industrial/product designer',\n",
       " 'Television camera operator',\n",
       " 'Child psychotherapist',\n",
       " 'Editorial assistant',\n",
       " 'Retired Exhibition designer',\n",
       " 'Interpreter',\n",
       " 'Hospital doctor',\n",
       " 'Economist',\n",
       " 'Technical sales engineer',\n",
       " 'Retired Occupational psychologist',\n",
       " 'Loss adjuster, chartered',\n",
       " 'Retired Tax adviser',\n",
       " 'Petroleum engineer',\n",
       " 'Retired Dancer',\n",
       " 'Retired Jewellery designer',\n",
       " 'Cytogeneticist',\n",
       " 'Psychiatric nurse',\n",
       " 'Public relations account executive',\n",
       " 'Forensic scientist',\n",
       " 'Retired Publishing rights manager',\n",
       " 'Retired Research scientist (life sciences)',\n",
       " 'Retired Magazine features editor',\n",
       " 'Retired Radio producer',\n",
       " 'Retired Herbalist',\n",
       " 'Facilities manager',\n",
       " 'Quantity surveyor',\n",
       " 'Adult nurse',\n",
       " 'Retired Advertising copywriter',\n",
       " 'Occupational therapist',\n",
       " 'Museum/gallery exhibitions officer',\n",
       " 'Metallurgist',\n",
       " 'Retired Arts development officer',\n",
       " 'Advertising art director',\n",
       " 'Naval architect',\n",
       " 'Retired Holiday representative',\n",
       " 'Retired Photographer',\n",
       " 'IT consultant',\n",
       " 'Scientist, research (maths)',\n",
       " 'Retired Paediatric nurse',\n",
       " 'Retired Insurance risk surveyor',\n",
       " 'Retired Theatre manager',\n",
       " 'Retired Veterinary surgeon',\n",
       " 'Education officer, environmental',\n",
       " 'Retired Nurse, adult',\n",
       " 'Retired Musician',\n",
       " 'Geoscientist',\n",
       " 'Electrical engineer',\n",
       " 'Retired Ambulance person',\n",
       " 'Retired Archaeologist',\n",
       " 'Retired Psychologist, counselling',\n",
       " 'Retired Education officer, community',\n",
       " 'Control and instrumentation engineer',\n",
       " 'Comptroller',\n",
       " 'Fish farm manager',\n",
       " 'Engineer, materials',\n",
       " 'Retired Engineer, structural',\n",
       " 'Structural engineer',\n",
       " 'Retired Designer, exhibition/display',\n",
       " \"Retired Barrister's clerk\",\n",
       " 'Doctor, hospital',\n",
       " 'Retired Surveyor, mining',\n",
       " 'Armed forces technical officer',\n",
       " 'Sports therapist',\n",
       " 'Scientist, research (life sciences)',\n",
       " 'Marketing executive',\n",
       " 'Engineer, building services',\n",
       " 'Retired Maintenance engineer',\n",
       " 'Financial controller',\n",
       " 'Immunologist',\n",
       " 'Retired Haematologist',\n",
       " 'Higher education lecturer',\n",
       " 'Clinical psychologist',\n",
       " 'Retired Editor, film/video',\n",
       " 'Estate agent',\n",
       " 'Purchasing manager',\n",
       " 'Ceramics designer',\n",
       " 'Careers adviser',\n",
       " 'Toxicologist',\n",
       " 'Equities trader',\n",
       " 'Commissioning editor',\n",
       " 'Conservation officer, historic buildings',\n",
       " 'Probation officer',\n",
       " 'Retired Chartered management accountant',\n",
       " \"Retired Politician's assistant\",\n",
       " 'Psychologist, sport and exercise',\n",
       " 'Theatre director',\n",
       " 'Operational researcher',\n",
       " 'Accountant, chartered management',\n",
       " 'Race relations officer',\n",
       " 'Arts development officer',\n",
       " 'Legal executive',\n",
       " 'Engineer, site',\n",
       " 'Runner, broadcasting/film/video',\n",
       " 'Computer games developer',\n",
       " 'Engineer, maintenance',\n",
       " 'Fine artist',\n",
       " 'Librarian, academic',\n",
       " 'Clinical scientist, histocompatibility and immunogenetics',\n",
       " 'Retired Lecturer, further education',\n",
       " 'Industrial buyer',\n",
       " 'Associate Professor',\n",
       " 'Engineer, land',\n",
       " 'Financial planner',\n",
       " 'Heritage manager',\n",
       " 'Lighting technician, broadcasting/film/video',\n",
       " 'Charity officer',\n",
       " 'Hotel manager',\n",
       " 'Sales professional, IT',\n",
       " 'Public relations officer',\n",
       " 'Engineer, technical sales',\n",
       " 'Insurance risk surveyor',\n",
       " 'Retired Astronomer',\n",
       " 'Retired Television/film/video producer',\n",
       " 'Geneticist, molecular',\n",
       " 'Retired Drilling engineer',\n",
       " 'Nutritional therapist',\n",
       " 'Paediatric nurse',\n",
       " 'Astronomer',\n",
       " 'Musician',\n",
       " 'Sports coach',\n",
       " 'Building services engineer',\n",
       " 'Engineer, petroleum',\n",
       " 'Ophthalmologist',\n",
       " 'Retired Magazine journalist',\n",
       " 'Museum/gallery conservator',\n",
       " 'Tourist information centre manager',\n",
       " 'Herbalist',\n",
       " 'Forest/woodland manager',\n",
       " 'Haematologist',\n",
       " 'Technical brewer',\n",
       " 'IT technical support officer',\n",
       " 'Sports development officer',\n",
       " 'Fitness centre manager',\n",
       " 'Commercial art gallery manager',\n",
       " 'Emergency planning/management officer',\n",
       " 'Lobbyist',\n",
       " 'Sub',\n",
       " 'Network engineer',\n",
       " 'Counsellor',\n",
       " 'Animal technologist',\n",
       " 'Electronics engineer',\n",
       " 'Physiological scientist',\n",
       " 'Mudlogger',\n",
       " 'Retired Land/geomatics surveyor',\n",
       " 'Production engineer',\n",
       " 'Retired Stage manager',\n",
       " 'Sports administrator',\n",
       " 'Medical laboratory scientific officer',\n",
       " 'Secretary, company',\n",
       " 'Retired Production assistant, television',\n",
       " 'Warden/ranger',\n",
       " 'Manufacturing systems engineer',\n",
       " 'Scientist, marine',\n",
       " 'Town planner',\n",
       " 'Physiotherapist',\n",
       " 'Retired Licensed conveyancer',\n",
       " 'Retired Heritage manager',\n",
       " 'Advertising account executive',\n",
       " 'Training and development officer',\n",
       " 'Retired Human resources officer',\n",
       " 'Radio broadcast assistant',\n",
       " 'Retired Hydrologist',\n",
       " 'Retired Ophthalmologist',\n",
       " 'Freight forwarder',\n",
       " 'Retired Engineer, electronics',\n",
       " 'Travel agency manager',\n",
       " 'Theatre manager',\n",
       " 'Retired Embryologist, clinical',\n",
       " 'Transport planner',\n",
       " 'Therapist, sports',\n",
       " 'Museum/gallery curator',\n",
       " 'Police officer',\n",
       " 'Customer service manager',\n",
       " 'Press sub',\n",
       " 'Advertising account planner',\n",
       " 'Software engineer',\n",
       " 'Chief Strategy Officer',\n",
       " 'Product manager',\n",
       " 'Presenter, broadcasting',\n",
       " 'Geographical information systems officer',\n",
       " 'Dance movement psychotherapist',\n",
       " 'Chiropodist',\n",
       " 'Retired Ship broker',\n",
       " 'Therapist, music',\n",
       " 'Marine scientist',\n",
       " 'Database administrator',\n",
       " 'Information officer',\n",
       " 'Pension scheme manager',\n",
       " 'Retired Field seismologist',\n",
       " 'Writer',\n",
       " 'Social research officer, government',\n",
       " 'Civil engineer, contracting',\n",
       " 'Engineer, aeronautical',\n",
       " 'Retired Local government officer',\n",
       " 'Retired Trade union research officer',\n",
       " 'Veterinary surgeon',\n",
       " 'Engineer, energy',\n",
       " 'Leisure centre manager',\n",
       " 'Diagnostic radiographer',\n",
       " 'Chiropractor',\n",
       " 'Outdoor activities/education manager',\n",
       " 'Communications engineer',\n",
       " 'Chartered loss adjuster',\n",
       " 'Jewellery designer',\n",
       " 'Occupational hygienist',\n",
       " 'Accountant, chartered',\n",
       " 'Rural practice surveyor',\n",
       " 'Retired Dealer',\n",
       " 'Retired Sound technician, broadcasting/film/video',\n",
       " 'Energy engineer',\n",
       " 'Education administrator',\n",
       " 'Materials engineer',\n",
       " 'Insurance account manager',\n",
       " 'Engineer, chemical',\n",
       " 'Retired Programmer, systems',\n",
       " 'Accommodation manager',\n",
       " 'Retired Health and safety inspector',\n",
       " 'Retired Petroleum engineer',\n",
       " 'Public librarian',\n",
       " 'Retired Production designer, theatre/television/film',\n",
       " 'Retired Radio broadcast assistant',\n",
       " 'Engineer, mining',\n",
       " 'Retired Mental health nurse',\n",
       " 'Retired Cartographer',\n",
       " 'Engineer, drilling',\n",
       " 'Retired Transport planner',\n",
       " 'Retired Sales promotion account executive',\n",
       " 'Retired Financial manager',\n",
       " 'Retired Chief of Staff',\n",
       " 'Retired Fitness centre manager',\n",
       " 'Retired Engineer, manufacturing',\n",
       " 'Geophysicist/field seismologist',\n",
       " 'Broadcast presenter',\n",
       " 'Engineer, water',\n",
       " 'Retired Prison officer',\n",
       " 'Contractor',\n",
       " 'Retail buyer',\n",
       " 'Retired Archivist',\n",
       " 'Stage manager',\n",
       " 'Publishing rights manager',\n",
       " 'Furniture designer',\n",
       " 'Engineer, civil (contracting)',\n",
       " 'Risk manager',\n",
       " 'Designer, blown glass/stained glass',\n",
       " 'Producer, radio',\n",
       " 'Retired Surveyor, building',\n",
       " 'Retired Higher education lecturer',\n",
       " 'Retired Public house manager',\n",
       " 'Engineer, manufacturing systems',\n",
       " 'Print production planner',\n",
       " 'Farm manager',\n",
       " 'Mental health nurse',\n",
       " 'Archaeologist',\n",
       " 'Personnel officer',\n",
       " 'Retired Catering manager',\n",
       " 'Retired Interior and spatial designer',\n",
       " 'Retired Research officer, trade union',\n",
       " 'Retired Theatre stage manager',\n",
       " 'Make',\n",
       " 'Retired Museum education officer',\n",
       " 'Retired Medical secretary',\n",
       " 'Company secretary',\n",
       " 'Pharmacist, community',\n",
       " 'Health physicist',\n",
       " 'Retired Ergonomist',\n",
       " 'Retired Loss adjuster, chartered',\n",
       " 'Commercial/residential surveyor',\n",
       " 'Science writer',\n",
       " 'Engineer, production',\n",
       " 'Retail merchandiser',\n",
       " 'Producer, television/film/video',\n",
       " 'Trading standards officer',\n",
       " 'Retired Sports administrator',\n",
       " 'Passenger transport manager',\n",
       " 'Retired Geochemist',\n",
       " 'Theme park manager',\n",
       " 'Retired Doctor, general practice',\n",
       " 'Retired Land',\n",
       " 'Retired Facilities manager',\n",
       " 'Investment banker, corporate',\n",
       " 'Retired Scientific laboratory technician',\n",
       " 'Records manager',\n",
       " 'Prison officer',\n",
       " 'Garment/textile technologist',\n",
       " \"Retired Nurse, children's\",\n",
       " 'Retired Personal assistant',\n",
       " 'Retired Volunteer coordinator',\n",
       " 'Corporate treasurer',\n",
       " 'Diplomatic Services operational officer',\n",
       " 'Recycling officer',\n",
       " 'Biomedical scientist',\n",
       " 'Automotive engineer',\n",
       " 'Air cabin crew',\n",
       " 'Occupational psychologist',\n",
       " 'Retired Clinical molecular geneticist',\n",
       " 'Medical sales representative',\n",
       " 'Financial adviser',\n",
       " 'Retired Outdoor activities/education manager',\n",
       " 'Surveyor, commercial/residential',\n",
       " 'Retired Engineer, energy',\n",
       " 'Engineer, agricultural',\n",
       " 'Education officer, community',\n",
       " 'Horticultural therapist',\n",
       " 'Retired Merchandiser, retail',\n",
       " 'Retired Engineer, technical sales',\n",
       " 'Horticulturist, commercial',\n",
       " 'Retired Newspaper journalist',\n",
       " 'Retired Engineer, maintenance (IT)',\n",
       " 'Television production assistant',\n",
       " 'Printmaker',\n",
       " 'Retired Microbiologist',\n",
       " 'Retired Commercial/residential surveyor',\n",
       " 'Engineer, control and instrumentation',\n",
       " 'Health service manager',\n",
       " 'Chartered public finance accountant',\n",
       " 'Retired Immunologist',\n",
       " 'Retired Producer, radio',\n",
       " 'Ranger/warden',\n",
       " 'Scientist, research (medical)',\n",
       " 'Retired Museum/gallery exhibitions officer',\n",
       " 'Retired Learning mentor',\n",
       " 'Retired Chief Executive Officer',\n",
       " 'Textile designer',\n",
       " 'Retired Event organiser',\n",
       " 'Retired Video editor',\n",
       " 'Retired Fisheries officer',\n",
       " 'Chief Executive Officer',\n",
       " 'Market researcher',\n",
       " 'Advertising copywriter',\n",
       " 'Herpetologist',\n",
       " 'Learning disability nurse',\n",
       " 'Investment banker, operational',\n",
       " 'Research scientist (life sciences)',\n",
       " 'Designer, multimedia',\n",
       " 'Retired Designer, industrial/product',\n",
       " 'Retired Retail manager',\n",
       " 'Camera operator',\n",
       " 'Retired Chief Strategy Officer',\n",
       " 'Analytical chemist',\n",
       " 'Retired Restaurant manager',\n",
       " 'Retired Lighting technician, broadcasting/film/video',\n",
       " 'Retired IT sales professional',\n",
       " 'Retired Music therapist',\n",
       " 'Retired Logistics and distribution manager',\n",
       " 'Retired Engineer, land',\n",
       " 'Retired Agricultural consultant',\n",
       " 'Retired Advertising account executive',\n",
       " 'Civil Service administrator',\n",
       " 'Newspaper journalist',\n",
       " 'Chartered management accountant',\n",
       " 'Fashion designer',\n",
       " 'Retired Amenity horticulturist',\n",
       " 'Retired Sub',\n",
       " 'Retired Scientist, research (maths)',\n",
       " 'Engineer, structural',\n",
       " 'Retired Glass blower/designer',\n",
       " 'Retired Forensic psychologist',\n",
       " 'Retired Research officer, political party',\n",
       " 'Retired Designer, graphic',\n",
       " 'Cartographer',\n",
       " 'Production assistant, television',\n",
       " 'Retired Careers information officer',\n",
       " 'Retired Editor, commissioning',\n",
       " 'Retired Therapist, art',\n",
       " 'Sport and exercise psychologist',\n",
       " 'Retired Occupational therapist',\n",
       " 'Retired Buyer, retail',\n",
       " 'Retired Dietitian',\n",
       " 'Retired Water engineer',\n",
       " 'Chief of Staff',\n",
       " 'Retired Press sub',\n",
       " 'Nurse, mental health',\n",
       " 'Designer, furniture',\n",
       " 'Retired Investment banker, corporate',\n",
       " 'Risk analyst',\n",
       " 'Counselling psychologist',\n",
       " 'Advice worker',\n",
       " 'Retired Food technologist',\n",
       " 'Retired Horticultural therapist',\n",
       " 'Retired Set designer',\n",
       " 'Television/film/video producer',\n",
       " 'Retired Higher education careers adviser',\n",
       " 'Retired Hospital doctor',\n",
       " 'Retired Chief Financial Officer',\n",
       " 'Retired Editorial assistant',\n",
       " 'Retired Scientist, clinical (histocompatibility and immunogenetics)',\n",
       " 'Retired Occupational hygienist',\n",
       " 'Retired Commercial art gallery manager',\n",
       " 'Retired Teaching laboratory technician',\n",
       " 'Retired Chartered legal executive (England and Wales)',\n",
       " 'Retired Airline pilot',\n",
       " 'Journalist, newspaper',\n",
       " 'Chemical engineer',\n",
       " 'Midwife',\n",
       " 'Retired Engineer, materials',\n",
       " 'Trade union research officer',\n",
       " 'Librarian, public',\n",
       " 'Retired Operational investment banker',\n",
       " 'Retired Computer games developer',\n",
       " 'Retired Investment analyst',\n",
       " 'Retired Software engineer',\n",
       " 'Radio producer',\n",
       " 'Retired Actor',\n",
       " 'Field seismologist',\n",
       " 'Retired Television production assistant',\n",
       " 'Retired Civil engineer, contracting',\n",
       " 'Retired Location manager',\n",
       " 'Retired Therapist, occupational',\n",
       " 'Retired Civil Service fast streamer',\n",
       " 'Psychotherapist',\n",
       " 'Retired Furniture conservator/restorer',\n",
       " 'Retired Chiropractor',\n",
       " 'Retired Chief Marketing Officer',\n",
       " 'Retired Horticultural consultant',\n",
       " 'Retired Insurance account manager',\n",
       " 'Administrator, Civil Service',\n",
       " 'Landscape architect',\n",
       " 'Retired Actuary',\n",
       " 'Retired Horticulturist, amenity',\n",
       " 'Retired Designer, interior/spatial',\n",
       " 'Retired Sports development officer',\n",
       " 'Retired Armed forces logistics/support/administrative officer',\n",
       " 'Retired Energy manager',\n",
       " 'Physicist, medical',\n",
       " 'Retired Records manager',\n",
       " 'Retired Clinical embryologist',\n",
       " 'Retired Art gallery manager',\n",
       " 'Retired Orthoptist',\n",
       " 'Retired Osteopath',\n",
       " 'Commercial horticulturist',\n",
       " 'Chief Financial Officer',\n",
       " 'Estate manager/land agent',\n",
       " 'Public affairs consultant',\n",
       " 'Retired Bonds trader',\n",
       " 'Retired Copywriter, advertising',\n",
       " 'Retired Adult nurse',\n",
       " 'Retired Cytogeneticist',\n",
       " 'Retired Market researcher',\n",
       " 'Retired Scientist, water quality',\n",
       " 'Retired Naval architect',\n",
       " \"Barrister's clerk\",\n",
       " 'Retired IT technical support officer',\n",
       " 'Retired Pensions consultant',\n",
       " 'Retired Public relations account executive',\n",
       " 'Retired Therapist, sports',\n",
       " 'Retired Technical author',\n",
       " 'Designer, industrial/product',\n",
       " 'Lecturer, higher education',\n",
       " 'Retired Administrator, Civil Service',\n",
       " 'Retired Curator',\n",
       " 'Retired Medical illustrator',\n",
       " 'Retired Lobbyist',\n",
       " 'Retired Trading standards officer',\n",
       " 'Retired Accountant, chartered management',\n",
       " 'Retired Financial trader',\n",
       " 'Retired Buyer, industrial',\n",
       " 'Retired Clinical cytogeneticist',\n",
       " 'Retired Special effects artist',\n",
       " 'Retired Equality and diversity officer',\n",
       " 'Retired Hotel manager',\n",
       " 'Wellsite geologist',\n",
       " 'Retired Designer, blown glass/stained glass',\n",
       " 'Retired Structural engineer',\n",
       " 'Retired Engineer, drilling',\n",
       " 'Retired Applications developer',\n",
       " 'Retired Medical technical officer',\n",
       " 'Retired Wellsite geologist',\n",
       " 'Retired Chartered accountant',\n",
       " 'Retired Translator',\n",
       " 'Retired Audiological scientist',\n",
       " 'Retired Surveyor, planning and development',\n",
       " 'Retired Education officer, museum',\n",
       " 'Retired Sport and exercise psychologist',\n",
       " 'Retired Psychologist, forensic',\n",
       " 'Retired Insurance claims handler',\n",
       " 'Retired Administrator',\n",
       " 'Retired Psychiatric nurse',\n",
       " 'Retired Statistician',\n",
       " 'Retired Industrial/product designer',\n",
       " 'Retired Conference centre manager',\n",
       " 'Retired Civil engineer, consulting',\n",
       " 'Retired Economist',\n",
       " 'Retired Advertising art director',\n",
       " 'Retired Corporate investment banker',\n",
       " 'Retired Civil Service administrator',\n",
       " 'Retired Firefighter',\n",
       " 'Retired Landscape architect',\n",
       " 'Retired Administrator, charities/voluntary organisations',\n",
       " 'Retired Web designer',\n",
       " 'Retired Phytotherapist',\n",
       " 'Retired Soil scientist',\n",
       " 'Retired Textile designer',\n",
       " 'Retired Advertising account planner',\n",
       " 'Retired Scientist, marine',\n",
       " 'Retired Solicitor',\n",
       " 'Retired Air broker',\n",
       " 'Retired Programmer, multimedia',\n",
       " 'Retired Nutritional therapist',\n",
       " 'Retired Data processing manager',\n",
       " 'Retired Tour manager',\n",
       " 'Retired Patent attorney',\n",
       " 'Retired Gaffer',\n",
       " 'Retired Engineer, site',\n",
       " 'Retired Estate manager/land agent',\n",
       " 'Retired Pharmacist, hospital',\n",
       " 'Retired Water quality scientist',\n",
       " 'Retired Psychologist, clinical',\n",
       " 'Retired Engineer, petroleum',\n",
       " 'Retired Retail buyer',\n",
       " 'Retired International aid/development worker',\n",
       " 'Retired Journalist, magazine',\n",
       " 'Retired Retail banker',\n",
       " 'Retired Chief Operating Officer',\n",
       " 'Retired Pharmacologist',\n",
       " 'Retired Psychologist, prison and probation services',\n",
       " 'Hotel Owner and Operator',\n",
       " 'Retired Chemical engineer',\n",
       " ' ',\n",
       " 'Retired Environmental education officer',\n",
       " 'Retired Engineering geologist',\n",
       " 'Retired Radiographer, diagnostic',\n",
       " 'Retired Estate agent',\n",
       " 'Retired Engineer, chemical',\n",
       " 'Retired Psychologist, occupational',\n",
       " 'Retired Seismic interpreter',\n",
       " 'Retired Patent examiner',\n",
       " 'Retired Nurse, mental health',\n",
       " 'Retired Youth worker',\n",
       " 'Retired Fast food restaurant manager',\n",
       " ...]"
      ]
     },
     "execution_count": 395,
     "metadata": {},
     "output_type": "execute_result"
    }
   ],
   "source": [
    "df_train.Occupation.unique().tolist()"
   ]
  },
  {
   "cell_type": "code",
   "execution_count": 396,
   "metadata": {},
   "outputs": [
    {
     "data": {
      "text/plain": [
       "0        False\n",
       "1        False\n",
       "2        False\n",
       "3        False\n",
       "4        False\n",
       "         ...  \n",
       "11113    False\n",
       "11114    False\n",
       "11115    False\n",
       "11116    False\n",
       "11117    False\n",
       "Name: Occupation, Length: 11118, dtype: bool"
      ]
     },
     "execution_count": 396,
     "metadata": {},
     "output_type": "execute_result"
    }
   ],
   "source": [
    "retired_mask = df_train.Occupation.str.lower().str.contains('retired')\n",
    "retired_mask"
   ]
  },
  {
   "cell_type": "code",
   "execution_count": 397,
   "metadata": {},
   "outputs": [],
   "source": [
    "df_train.loc[retired_mask, 'Occupation'] = 'Retired'"
   ]
  },
  {
   "cell_type": "code",
   "execution_count": 398,
   "metadata": {},
   "outputs": [
    {
     "data": {
      "text/plain": [
       "0        False\n",
       "1         True\n",
       "2        False\n",
       "3        False\n",
       "4        False\n",
       "         ...  \n",
       "11113    False\n",
       "11114    False\n",
       "11115    False\n",
       "11116    False\n",
       "11117    False\n",
       "Name: Occupation, Length: 11118, dtype: bool"
      ]
     },
     "execution_count": 398,
     "metadata": {},
     "output_type": "execute_result"
    }
   ],
   "source": [
    "engineer_mask = df_train.Occupation.str.lower().str.contains('engineer')\n",
    "engineer_mask"
   ]
  },
  {
   "cell_type": "code",
   "execution_count": 399,
   "metadata": {},
   "outputs": [],
   "source": [
    "df_train.loc[engineer_mask, 'Occupation'] = 'Engineer'"
   ]
  },
  {
   "cell_type": "code",
   "execution_count": 400,
   "metadata": {},
   "outputs": [
    {
     "data": {
      "text/plain": [
       "Index(['Student', 'Retired', 'Unemployed', 'University Student', 'Child',\n",
       "       'Engineer', 'Teacher', 'PhD Student',\n",
       "       'Higher education careers adviser',\n",
       "       'Scientist, product/process development',\n",
       "       ...\n",
       "       'Naval architect', 'Presenter, broadcasting', 'Risk analyst',\n",
       "       'Conservation officer, historic buildings', 'Technical author',\n",
       "       'Conference centre manager', 'Television/film/video producer',\n",
       "       'Furniture conservator/restorer', 'Hotel Owner and Operator', ' '],\n",
       "      dtype='object', length=573)"
      ]
     },
     "execution_count": 400,
     "metadata": {},
     "output_type": "execute_result"
    }
   ],
   "source": [
    "occupations = df_train.Occupation.value_counts().index\n",
    "occupations"
   ]
  },
  {
   "cell_type": "code",
   "execution_count": 401,
   "metadata": {},
   "outputs": [],
   "source": [
    "occupations\n",
    "df_train.Occupation.replace(occupations[5:], 'Commuters', inplace=True)\n",
    "df_train.Occupation.replace('University Student', 'Commuters', inplace=True)\n"
   ]
  },
  {
   "cell_type": "code",
   "execution_count": 402,
   "metadata": {},
   "outputs": [
    {
     "name": "stdout",
     "output_type": "stream",
     "text": [
      "        index  Occupation\n",
      "0   Commuters        6663\n",
      "1     Student        2248\n",
      "2     Retired         807\n",
      "3  Unemployed         736\n",
      "4       Child         664\n"
     ]
    },
    {
     "data": {
      "text/plain": [
       "<AxesSubplot:xlabel='index', ylabel='Occupation'>"
      ]
     },
     "execution_count": 402,
     "metadata": {},
     "output_type": "execute_result"
    },
    {
     "data": {
      "image/png": "[encoded data removed]",
      "text/plain": [
       "<Figure size 432x288 with 1 Axes>"
      ]
     },
     "metadata": {
      "needs_background": "light"
     },
     "output_type": "display_data"
    }
   ],
   "source": [
    "print(df_train.Occupation.value_counts().reset_index())\n",
    "sns.barplot(data=df_train.Occupation.value_counts().reset_index(), x='index', y='Occupation')"
   ]
  },
  {
   "cell_type": "markdown",
   "metadata": {},
   "source": [
    "### Infirmity"
   ]
  },
  {
   "cell_type": "code",
   "execution_count": 403,
   "metadata": {},
   "outputs": [
    {
     "data": {
      "text/html": [
       "<div>\n",
       "<style scoped>\n",
       "    .dataframe tbody tr th:only-of-type {\n",
       "        vertical-align: middle;\n",
       "    }\n",
       "\n",
       "    .dataframe tbody tr th {\n",
       "        vertical-align: top;\n",
       "    }\n",
       "\n",
       "    .dataframe thead th {\n",
       "        text-align: right;\n",
       "    }\n",
       "</style>\n",
       "<table border=\"1\" class=\"dataframe\">\n",
       "  <thead>\n",
       "    <tr style=\"text-align: right;\">\n",
       "      <th></th>\n",
       "      <th>House Number</th>\n",
       "      <th>Street</th>\n",
       "      <th>First Name</th>\n",
       "      <th>Surname</th>\n",
       "      <th>Age</th>\n",
       "      <th>Relationship to Head of House</th>\n",
       "      <th>Marital Status</th>\n",
       "      <th>Gender</th>\n",
       "      <th>Occupation</th>\n",
       "      <th>Infirmity</th>\n",
       "      <th>Religion</th>\n",
       "    </tr>\n",
       "  </thead>\n",
       "  <tbody>\n",
       "  </tbody>\n",
       "</table>\n",
       "</div>"
      ],
      "text/plain": [
       "Empty DataFrame\n",
       "Columns: [House Number, Street, First Name, Surname, Age, Relationship to Head of House, Marital Status, Gender, Occupation, Infirmity, Religion]\n",
       "Index: []"
      ]
     },
     "execution_count": 403,
     "metadata": {},
     "output_type": "execute_result"
    }
   ],
   "source": [
    "df[df.Infirmity.isna()]"
   ]
  },
  {
   "cell_type": "markdown",
   "metadata": {},
   "source": [
    "# Data Analysis"
   ]
  },
  {
   "cell_type": "markdown",
   "metadata": {},
   "source": [
    "### Age Distribution - Age pyramid"
   ]
  },
  {
   "cell_type": "code",
   "execution_count": 404,
   "metadata": {},
   "outputs": [],
   "source": [
    "df.Age = df.Age.astype(int)"
   ]
  },
  {
   "cell_type": "code",
   "execution_count": 405,
   "metadata": {},
   "outputs": [],
   "source": [
    "# Apply the categories to males population\n",
    "cat = [start for start in range(0, df.Age.max(), 5)]\n",
    "males = pd.cut(df.Age[df.Gender=='Male'], cat).value_counts(sort=False) * -1\n",
    "\n",
    "# Apply the categories to females population \n",
    "females = pd.cut(df.Age[df.Gender=='Female'], cat).value_counts(sort=False) \n",
    "\n",
    "males.sort_index(ascending=False, inplace=True)\n",
    "females.sort_index(ascending=False, inplace=True)"
   ]
  },
  {
   "cell_type": "code",
   "execution_count": 406,
   "metadata": {},
   "outputs": [],
   "source": [
    "males.index = males.index.astype(str)\n",
    "females.index = females.index.astype(str)"
   ]
  },
  {
   "cell_type": "code",
   "execution_count": 407,
   "metadata": {},
   "outputs": [
    {
     "data": {
      "text/plain": [
       "[Text(0.5, 0, '<--- Males   |   Population   |   Females --->'),\n",
       " Text(0, 0.5, 'Age-Group'),\n",
       " Text(0.5, 1.0, 'Population Pyramid')]"
      ]
     },
     "execution_count": 407,
     "metadata": {},
     "output_type": "execute_result"
    },
    {
     "data": {
      "image/png": "[encoded data removed]",
      "text/plain": [
       "<Figure size 864x576 with 1 Axes>"
      ]
     },
     "metadata": {
      "needs_background": "light"
     },
     "output_type": "display_data"
    }
   ],
   "source": [
    "plt.figure(figsize=(12, 8))\n",
    "bar_plot = sns.barplot(data=males.reset_index(), x='Age', y='index', lw=0)\n",
    "bar_plot = sns.barplot(data=females.reset_index(), x='Age', y='index', lw=0)\n",
    "bar_plot.set(xlabel=\"<--- Males   |   Population   |   Females --->\", ylabel=\"Age-Group\", title = \"Population Pyramid\")"
   ]
  },
  {
   "cell_type": "code",
   "execution_count": 408,
   "metadata": {},
   "outputs": [
    {
     "data": {
      "image/png": "[encoded data removed]",
      "text/plain": [
       "<Figure size 432x288 with 1 Axes>"
      ]
     },
     "metadata": {
      "needs_background": "light"
     },
     "output_type": "display_data"
    }
   ],
   "source": [
    "sns.boxplot(x=df.Age, y=df['Marital Status'])\n",
    "plt.show()"
   ]
  },
  {
   "cell_type": "code",
   "execution_count": 6,
   "metadata": {},
   "outputs": [
    {
     "ename": "NameError",
     "evalue": "name 'df' is not defined",
     "output_type": "error",
     "traceback": [
      "\u001b[0;31m---------------------------------------------------------------------------\u001b[0m",
      "\u001b[0;31mNameError\u001b[0m                                 Traceback (most recent call last)",
      "\u001b[0;32m/var/folders/fh/93xksvt54v90r60y6t2q84pw0000gn/T/ipykernel_50625/903161806.py\u001b[0m in \u001b[0;36m<module>\u001b[0;34m\u001b[0m\n\u001b[0;32m----> 1\u001b[0;31m \u001b[0mdf\u001b[0m\u001b[0;34m[\u001b[0m\u001b[0;34m'Marital Status'\u001b[0m\u001b[0;34m]\u001b[0m\u001b[0;34m.\u001b[0m\u001b[0minfo\u001b[0m\u001b[0;34m(\u001b[0m\u001b[0;34m)\u001b[0m\u001b[0;34m\u001b[0m\u001b[0;34m\u001b[0m\u001b[0m\n\u001b[0m",
      "\u001b[0;31mNameError\u001b[0m: name 'df' is not defined"
     ]
    }
   ],
   "source": [
    "df['Marital Status'].info()"
   ]
  },
  {
   "cell_type": "markdown",
   "metadata": {},
   "source": [
    "As seen in the distribution of widowed people, there appears to be significant outliers in their Ages, rather unusually."
   ]
  },
  {
   "cell_type": "markdown",
   "metadata": {},
   "source": [
    "### Umemployment trend"
   ]
  },
  {
   "cell_type": "code",
   "execution_count": 409,
   "metadata": {},
   "outputs": [],
   "source": [
    "cnt_Unemployed = df.Occupation.where(df.Occupation=='Unemployed').value_counts()['Unemployed']"
   ]
  },
  {
   "cell_type": "code",
   "execution_count": 410,
   "metadata": {},
   "outputs": [
    {
     "name": "stdout",
     "output_type": "stream",
     "text": [
      "Proportion of unemployed is 6.62%\n"
     ]
    }
   ],
   "source": [
    "print(f\"Proportion of unemployed is {cnt_Unemployed/df.shape[0] * 100:.2f}%\")"
   ]
  },
  {
   "cell_type": "code",
   "execution_count": 411,
   "metadata": {},
   "outputs": [
    {
     "data": {
      "text/plain": [
       "Employed      86.12%\n",
       "Retired        7.26%\n",
       "Unemployed     6.62%\n",
       "Name: Occupation, dtype: object"
      ]
     },
     "execution_count": 411,
     "metadata": {},
     "output_type": "execute_result"
    }
   ],
   "source": [
    "temp_df = df.copy()\n",
    "temp_df.loc[temp_df.Occupation.str.lower().str.contains('retired'), 'Occupation'] = 'Retired'\n",
    "\n",
    "other_occup = temp_df.Occupation.unique().tolist()\n",
    "other_occup.remove('Unemployed')\n",
    "other_occup.remove('Retired')\n",
    "\n",
    "employment_status = temp_df.Occupation.replace(other_occup, 'Employed')\n",
    "employment_status = employment_status.value_counts(normalize=True)\n",
    "employment_status.map('{:.2%}'.format)"
   ]
  },
  {
   "cell_type": "code",
   "execution_count": 414,
   "metadata": {},
   "outputs": [
    {
     "name": "stdout",
     "output_type": "stream",
     "text": [
      "<class 'pandas.core.frame.DataFrame'>\n",
      "RangeIndex: 3 entries, 0 to 2\n",
      "Data columns (total 2 columns):\n",
      " #   Column      Non-Null Count  Dtype  \n",
      "---  ------      --------------  -----  \n",
      " 0   index       3 non-null      object \n",
      " 1   Occupation  3 non-null      float64\n",
      "dtypes: float64(1), object(1)\n",
      "memory usage: 176.0+ bytes\n"
     ]
    }
   ],
   "source": [
    "employment_status.reset_index().info()"
   ]
  },
  {
   "cell_type": "code",
   "execution_count": 415,
   "metadata": {},
   "outputs": [
    {
     "data": {
      "text/plain": [
       "<AxesSubplot:ylabel='Occupation'>"
      ]
     },
     "execution_count": 415,
     "metadata": {},
     "output_type": "execute_result"
    },
    {
     "data": {
      "image/png": "[encoded data removed]",
      "text/plain": [
       "<Figure size 432x288 with 1 Axes>"
      ]
     },
     "metadata": {
      "needs_background": "light"
     },
     "output_type": "display_data"
    }
   ],
   "source": [
    "sns.barplot(y=employment_status, x=employment_status.index)"
   ]
  },
  {
   "cell_type": "code",
   "execution_count": 269,
   "metadata": {},
   "outputs": [
    {
     "data": {
      "text/plain": [
       "<AxesSubplot:xlabel='Age', ylabel='Count'>"
      ]
     },
     "execution_count": 269,
     "metadata": {},
     "output_type": "execute_result"
    },
    {
     "data": {
      "image/png": "[encoded data removed]",
      "text/plain": [
       "<Figure size 432x288 with 1 Axes>"
      ]
     },
     "metadata": {
      "needs_background": "light"
     },
     "output_type": "display_data"
    }
   ],
   "source": [
    "age = df.Age\n",
    "# age = pd.cut(age, cat)\n",
    "sns.histplot(x=age, binwidth=5, hue=employment_status, multiple='fill')"
   ]
  },
  {
   "cell_type": "markdown",
   "metadata": {},
   "source": [
    "The proportion of younger people that are unemployed is relatively high, an indication that unemployment is likely on the rise."
   ]
  },
  {
   "cell_type": "markdown",
   "metadata": {},
   "source": [
    "### Religious affiliations"
   ]
  },
  {
   "cell_type": "code",
   "execution_count": 270,
   "metadata": {},
   "outputs": [
    {
     "data": {
      "image/png": "[encoded data removed]",
      "text/plain": [
       "<Figure size 432x288 with 1 Axes>"
      ]
     },
     "metadata": {
      "needs_background": "light"
     },
     "output_type": "display_data"
    },
    {
     "data": {
      "image/png": "[encoded data removed]",
      "text/plain": [
       "<Figure size 432x288 with 1 Axes>"
      ]
     },
     "metadata": {
      "needs_background": "light"
     },
     "output_type": "display_data"
    },
    {
     "data": {
      "image/png": "[encoded data removed]",
      "text/plain": [
       "<Figure size 432x288 with 1 Axes>"
      ]
     },
     "metadata": {
      "needs_background": "light"
     },
     "output_type": "display_data"
    },
    {
     "data": {
      "image/png": "[encoded data removed]",
      "text/plain": [
       "<Figure size 432x288 with 1 Axes>"
      ]
     },
     "metadata": {
      "needs_background": "light"
     },
     "output_type": "display_data"
    },
    {
     "data": {
      "image/png": "[encoded data removed]",
      "text/plain": [
       "<Figure size 432x288 with 1 Axes>"
      ]
     },
     "metadata": {
      "needs_background": "light"
     },
     "output_type": "display_data"
    },
    {
     "data": {
      "image/png": "[encoded data removed]",
      "text/plain": [
       "<Figure size 432x288 with 1 Axes>"
      ]
     },
     "metadata": {
      "needs_background": "light"
     },
     "output_type": "display_data"
    },
    {
     "data": {
      "image/png": "[encoded data removed]",
      "text/plain": [
       "<Figure size 432x288 with 1 Axes>"
      ]
     },
     "metadata": {
      "needs_background": "light"
     },
     "output_type": "display_data"
    },
    {
     "data": {
      "image/png": "[encoded data removed]",
      "text/plain": [
       "<Figure size 432x288 with 1 Axes>"
      ]
     },
     "metadata": {
      "needs_background": "light"
     },
     "output_type": "display_data"
    }
   ],
   "source": [
    "religions = df.Religion\n",
    "hist = sns.histplot(x=age,  binwidth=5, color='blue', kde=True)\n",
    "hist.set(title='Age Distribution')\n",
    "plt.show()\n",
    "\n",
    "for religion in religions.unique():\n",
    "    sub_age = age[religions==religion]\n",
    "    sub_rel = religions[religions==religion]\n",
    "    if sub_rel.shape[0] < 20 or religion==np.nan:\n",
    "        continue\n",
    "    # print(religion)\n",
    "    hist = sns.histplot(x=sub_age, binwidth=5, kde=True)\n",
    "    hist.set(title=f'{religion} Religion\\'s Age Distribution')\n",
    "    plt.show()"
   ]
  },
  {
   "cell_type": "markdown",
   "metadata": {},
   "source": [
    "A religion is shrinking if less young people are practicing it than adults. That is, if it the age distribution of a religious group is significantly different from the general distribution."
   ]
  },
  {
   "cell_type": "markdown",
   "metadata": {},
   "source": [
    "### Divorce and Marriage Rate\n",
    "\n"
   ]
  },
  {
   "cell_type": "code",
   "execution_count": 271,
   "metadata": {},
   "outputs": [
    {
     "data": {
      "image/png": "[encoded data removed]",
      "text/plain": [
       "<Figure size 432x288 with 1 Axes>"
      ]
     },
     "metadata": {
      "needs_background": "light"
     },
     "output_type": "display_data"
    }
   ],
   "source": [
    "# Children below 18 are not legally allowed to marry, hence their statuses are represented an nans\n",
    "\n",
    "marital_status = df['Marital Status'].dropna()\n",
    "\n",
    "marital_status = marital_status.replace(set(df['Marital Status'].unique()).difference({'Married'}), 'Not Married')\n",
    "\n",
    "hist=sns.histplot(x=age, hue=marital_status, kde=True)\n",
    "hist.set(title='Proportion of people that are married as a stacked histogram')\n",
    "plt.show()"
   ]
  },
  {
   "cell_type": "markdown",
   "metadata": {},
   "source": [
    "The distribution for the married is normal but that of the unmarried is right-skewed. This is an indication that population may dwindle in the future."
   ]
  },
  {
   "cell_type": "markdown",
   "metadata": {},
   "source": [
    "### Occupancy Levels of Houses"
   ]
  },
  {
   "cell_type": "code",
   "execution_count": 272,
   "metadata": {},
   "outputs": [
    {
     "data": {
      "image/png": "[encoded data removed]",
      "text/plain": [
       "<Figure size 864x432 with 1 Axes>"
      ]
     },
     "metadata": {
      "needs_background": "light"
     },
     "output_type": "display_data"
    }
   ],
   "source": [
    "occupancy = df.groupby(['House Number', 'Street'])['Surname'].count()\n",
    "\n",
    "plt.figure(figsize=(12, 6))\n",
    "hist=sns.histplot(x=occupancy, kde=True)\n",
    "hist.set(title='Distribution of Occupancy Level', xlabel='Number of Occupants', ylabel='Numer of houses')\n",
    "plt.show()"
   ]
  },
  {
   "cell_type": "code",
   "execution_count": 273,
   "metadata": {},
   "outputs": [
    {
     "data": {
      "text/plain": [
       "3, 4 or 5    0.485455\n",
       "1 or 2       0.463838\n",
       "6            0.024286\n",
       "7            0.005338\n",
       "12           0.004003\n",
       "Name: Surname, dtype: float64"
      ]
     },
     "execution_count": 273,
     "metadata": {},
     "output_type": "execute_result"
    }
   ],
   "source": [
    "occupancy.replace({1:'1 or 2', 2:'1 or 2', 3:'3, 4 or 5', 4:'3, 4 or 5', 5:'3, 4 or 5'}).value_counts(normalize=True).head()"
   ]
  },
  {
   "cell_type": "markdown",
   "metadata": {},
   "source": [
    "Up to 58% of the houses have between 1 or 2 occupants. About 39% have 3 to 5 occupants. This indicates that the houses are not stretched capacity-wise. although the decision to build new houses depends on the sizes of the existing ones with few occupants."
   ]
  },
  {
   "cell_type": "markdown",
   "metadata": {},
   "source": [
    "### Infirmity: Should Hospitals be built?"
   ]
  },
  {
   "cell_type": "code",
   "execution_count": 274,
   "metadata": {},
   "outputs": [
    {
     "name": "stdout",
     "output_type": "stream",
     "text": [
      "None                   11033\n",
      "Physical Disability       27\n",
      "Unknown Infection         12\n",
      "Mental Disability         10\n",
      "                           9\n",
      "Deaf                       9\n",
      "Blind                      9\n",
      "Disabled                   8\n",
      "Female                     1\n",
      "Name: Infirmity, dtype: int64\n"
     ]
    },
    {
     "data": {
      "text/plain": [
       "<AxesSubplot:>"
      ]
     },
     "execution_count": 274,
     "metadata": {},
     "output_type": "execute_result"
    },
    {
     "data": {
      "image/png": "[encoded data removed]",
      "text/plain": [
       "<Figure size 432x288 with 1 Axes>"
      ]
     },
     "metadata": {
      "needs_background": "light"
     },
     "output_type": "display_data"
    }
   ],
   "source": [
    "infirmity_dist = df.Infirmity.value_counts()\n",
    "print(infirmity_dist)\n",
    "infirmity_dist.plot.bar()"
   ]
  },
  {
   "cell_type": "markdown",
   "metadata": {},
   "source": [
    "A small proportion of the population have infirmity."
   ]
  },
  {
   "cell_type": "markdown",
   "metadata": {},
   "source": [
    "Uiversity Students consititute a low proportion of the population and while investing in transport may be necessary, it may not be the most pressing need of the town."
   ]
  },
  {
   "cell_type": "markdown",
   "metadata": {},
   "source": [
    "### Birth and Death Rate\n",
    "\n",
    "* Birth Rate: Number of birth per thousand of a population. We could use the data of the children that are aged 0-1\n",
    "* Death Rate: Number of deaths per thousand of a population. We could bin the ages using width 10, take the population of each bin and obtain the difference with the next higher bin. The difference tells us the death rate for (this assumes that the number of people in that bin range represent the number of people in the next bin range the year before)"
   ]
  },
  {
   "cell_type": "markdown",
   "metadata": {},
   "source": [
    "#### Birth Rate"
   ]
  },
  {
   "cell_type": "code",
   "execution_count": 276,
   "metadata": {},
   "outputs": [],
   "source": [
    "# Birth rate\n",
    "age = df.Age"
   ]
  },
  {
   "cell_type": "code",
   "execution_count": 277,
   "metadata": {},
   "outputs": [
    {
     "data": {
      "text/plain": [
       "0        29\n",
       "1        31\n",
       "2         6\n",
       "3         3\n",
       "4        81\n",
       "         ..\n",
       "11113    12\n",
       "11114     8\n",
       "11115     1\n",
       "11116    54\n",
       "11117    56\n",
       "Name: Age, Length: 11118, dtype: int32"
      ]
     },
     "execution_count": 277,
     "metadata": {},
     "output_type": "execute_result"
    }
   ],
   "source": [
    "age"
   ]
  },
  {
   "cell_type": "code",
   "execution_count": 278,
   "metadata": {},
   "outputs": [
    {
     "name": "stdout",
     "output_type": "stream",
     "text": [
      "Birth rate: inf\n"
     ]
    },
    {
     "name": "stderr",
     "output_type": "stream",
     "text": [
      "C:\\Users\\SALAHU~1\\AppData\\Local\\Temp/ipykernel_11644/2775973939.py:5: RuntimeWarning: divide by zero encountered in longlong_scalars\n",
      "  birth_rate = children_aged_0 / child_bearing_women * 100000\n"
     ]
    }
   ],
   "source": [
    "children_aged_0 = (age==0).sum()\n",
    "\n",
    "child_bearing_women = df.query('Age>=25 and Age<=29 and `Gender`==\"female\"').shape[0]\n",
    "\n",
    "birth_rate = children_aged_0 / child_bearing_women * 100000\n",
    "print(\"Birth rate:\", birth_rate)"
   ]
  },
  {
   "cell_type": "markdown",
   "metadata": {},
   "source": [
    "#### Evolving birth rate.Was the birth rate different in the past compared to the present?"
   ]
  },
  {
   "cell_type": "code",
   "execution_count": 279,
   "metadata": {},
   "outputs": [
    {
     "name": "stdout",
     "output_type": "stream",
     "text": [
      "Birth rate: 34080.71748878924\n"
     ]
    }
   ],
   "source": [
    "children_aged_0 = (age==4).sum()\n",
    "\n",
    "child_bearing_women = df.query('Age>=30 and Age<=34 and `Gender`==\"Female\"').shape[0]\n",
    "\n",
    "birth_rate = children_aged_0 / child_bearing_women * 100000\n",
    "print(\"Birth rate:\", birth_rate)"
   ]
  },
  {
   "cell_type": "markdown",
   "metadata": {},
   "source": [
    "#### Death Rate\n",
    "\n",
    "Compute the number of people in the age range 56-60, versus 61-65"
   ]
  },
  {
   "cell_type": "code",
   "execution_count": 280,
   "metadata": {},
   "outputs": [
    {
     "name": "stdout",
     "output_type": "stream",
     "text": [
      "Death rate for older age group: 30655.737704918036\n"
     ]
    }
   ],
   "source": [
    "old_56_60 = df.query('Age>=56 and Age<=60').shape[0]\n",
    "\n",
    "\n",
    "old_61_65 = df.query('Age>=61 and Age<=65').shape[0]\n",
    "death_rate = (old_56_60 - old_61_65)/old_56_60 * 100000\n",
    "print(\"Death rate for older age group:\", death_rate)"
   ]
  },
  {
   "cell_type": "markdown",
   "metadata": {},
   "source": [
    "* Death rate for all age groups"
   ]
  },
  {
   "cell_type": "code",
   "execution_count": 281,
   "metadata": {},
   "outputs": [
    {
     "name": "stdout",
     "output_type": "stream",
     "text": [
      "664 11116\n"
     ]
    }
   ],
   "source": [
    "total_deaths = 0\n",
    "total_population = 0\n",
    "\n",
    "age_bins = pd.cut(range(0, df.Age.max(), 5), range(0, df.Age.max(), 5))\n",
    "\n",
    "age_bins = [val for val in age_bins if val==val]\n",
    "for i, bin in enumerate(age_bins):\n",
    "    if i==0:\n",
    "        continue\n",
    "    bin_pop = age_bins[i-1]\n",
    "    pop = df.query('Age>=%s and Age<=%s' %(bin_pop.left, bin_pop.right-1)).shape[0]\n",
    "    total_population += pop\n",
    "\n",
    "    bin_death = bin\n",
    "    deaths = df.query('Age>=%s and Age<=%s' %(bin_death.left, bin_death.right-1)).shape[0]\n",
    "    total_deaths += pop - deaths\n",
    "    \n",
    "print(total_deaths, total_population)"
   ]
  },
  {
   "cell_type": "code",
   "execution_count": 282,
   "metadata": {},
   "outputs": [
    {
     "name": "stdout",
     "output_type": "stream",
     "text": [
      "5973\n"
     ]
    }
   ],
   "source": [
    "death_rate = round(total_deaths/total_population * 100000)\n",
    "print(death_rate)"
   ]
  }
 ],
 "metadata": {
  "interpreter": {
   "hash": "dddfeb0dba163f8ce7602cf2984dc222f343d9fa776c2215e9005f6f922e83fa"
  },
  "kernelspec": {
   "display_name": "Python 3 (ipykernel)",
   "language": "python",
   "name": "python3"
  },
  "language_info": {
   "codemirror_mode": {
    "name": "ipython",
    "version": 3
   },
   "file_extension": ".py",
   "mimetype": "text/x-python",
   "name": "python",
   "nbconvert_exporter": "python",
   "pygments_lexer": "ipython3",
   "version": "3.10.0"
  }
 },
 "nbformat": 4,
 "nbformat_minor": 2
}
